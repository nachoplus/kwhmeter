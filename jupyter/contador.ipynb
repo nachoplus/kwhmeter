{
 "cells": [
  {
   "attachments": {},
   "cell_type": "markdown",
   "metadata": {},
   "source": [
    "## Pruebas del modulo de acceso a los datos de contador"
   ]
  },
  {
   "cell_type": "code",
   "execution_count": 1,
   "metadata": {},
   "outputs": [],
   "source": [
    "import pandas as pd\n",
    "from kwhmeter import suministro,contador, timezone, append_prices, read_config\n",
    "from datetime import datetime, timedelta\n",
    "import seaborn as sns\n"
   ]
  },
  {
   "cell_type": "code",
   "execution_count": 2,
   "metadata": {},
   "outputs": [
    {
     "name": "stderr",
     "output_type": "stream",
     "text": [
      "INFO:root:Existen 25 facturas. Desde: 2021-01-20 00:00:00+01:00 hasta:2023-01-23 00:00:00+01:00\n"
     ]
    }
   ],
   "source": [
    "credenciales=read_config()\n",
    "connection = contador(**credenciales['paconavas'])\n",
    "#connection = contador(iberdrola,user,password)  #equivalente\n",
    "#connection = suministro('alarcon')  #equivalente"
   ]
  },
  {
   "cell_type": "code",
   "execution_count": 3,
   "metadata": {},
   "outputs": [
    {
     "name": "stdout",
     "output_type": "stream",
     "text": [
      "Recuperando datos desde: 2023-01-16 00:00:00+01:00 hasta:2023-01-19 00:00:00+01:00\n"
     ]
    }
   ],
   "source": [
    "\n",
    "to_day = timezone.localize(datetime(2023,1,19)-timedelta(days=0))\n",
    "from_day=to_day-timedelta(days=3)\n",
    "\n",
    "print(f'Recuperando datos desde: {from_day} hasta:{to_day}')\n"
   ]
  },
  {
   "cell_type": "markdown",
   "metadata": {},
   "source": []
  },
  {
   "cell_type": "code",
   "execution_count": 4,
   "metadata": {},
   "outputs": [
    {
     "data": {
      "text/html": [
       "<div>\n",
       "<style scoped>\n",
       "    .dataframe tbody tr th:only-of-type {\n",
       "        vertical-align: middle;\n",
       "    }\n",
       "\n",
       "    .dataframe tbody tr th {\n",
       "        vertical-align: top;\n",
       "    }\n",
       "\n",
       "    .dataframe thead th {\n",
       "        text-align: right;\n",
       "    }\n",
       "</style>\n",
       "<table border=\"1\" class=\"dataframe\">\n",
       "  <thead>\n",
       "    <tr style=\"text-align: right;\">\n",
       "      <th></th>\n",
       "      <th>fechaInicio</th>\n",
       "      <th>fechaFin</th>\n",
       "      <th>numero</th>\n",
       "    </tr>\n",
       "    <tr>\n",
       "      <th>factura</th>\n",
       "      <th></th>\n",
       "      <th></th>\n",
       "      <th></th>\n",
       "    </tr>\n",
       "  </thead>\n",
       "  <tbody>\n",
       "    <tr>\n",
       "      <th>2023-01-23</th>\n",
       "      <td>2023-01-09 00:00:00+01:00</td>\n",
       "      <td>2023-01-23 00:00:00+01:00</td>\n",
       "      <td>3230123030362980</td>\n",
       "    </tr>\n",
       "    <tr>\n",
       "      <th>2023-01-09</th>\n",
       "      <td>2022-12-22 00:00:00+01:00</td>\n",
       "      <td>2023-01-09 00:00:00+01:00</td>\n",
       "      <td>3230109030312833</td>\n",
       "    </tr>\n",
       "    <tr>\n",
       "      <th>2022-12-22</th>\n",
       "      <td>2022-11-22 00:00:00+01:00</td>\n",
       "      <td>2022-12-22 00:00:00+01:00</td>\n",
       "      <td>3221222030362782</td>\n",
       "    </tr>\n",
       "    <tr>\n",
       "      <th>2022-11-22</th>\n",
       "      <td>2022-10-21 00:00:00+02:00</td>\n",
       "      <td>2022-11-22 00:00:00+01:00</td>\n",
       "      <td>3221122030323849</td>\n",
       "    </tr>\n",
       "    <tr>\n",
       "      <th>2022-10-21</th>\n",
       "      <td>2022-09-27 00:00:00+02:00</td>\n",
       "      <td>2022-10-21 00:00:00+02:00</td>\n",
       "      <td>3221021030346154</td>\n",
       "    </tr>\n",
       "    <tr>\n",
       "      <th>2022-09-27</th>\n",
       "      <td>2022-07-26 00:00:00+02:00</td>\n",
       "      <td>2022-09-27 00:00:00+02:00</td>\n",
       "      <td>3220927030337878</td>\n",
       "    </tr>\n",
       "    <tr>\n",
       "      <th>2022-07-26</th>\n",
       "      <td>2022-06-23 00:00:00+02:00</td>\n",
       "      <td>2022-07-26 00:00:00+02:00</td>\n",
       "      <td>3220726030358467</td>\n",
       "    </tr>\n",
       "    <tr>\n",
       "      <th>2022-06-28</th>\n",
       "      <td>2022-05-23 00:00:00+02:00</td>\n",
       "      <td>2022-06-23 00:00:00+02:00</td>\n",
       "      <td>3220628030327990</td>\n",
       "    </tr>\n",
       "    <tr>\n",
       "      <th>2022-05-23</th>\n",
       "      <td>2022-04-22 00:00:00+02:00</td>\n",
       "      <td>2022-05-23 00:00:00+02:00</td>\n",
       "      <td>3220523030347163</td>\n",
       "    </tr>\n",
       "    <tr>\n",
       "      <th>2022-04-22</th>\n",
       "      <td>2022-03-24 00:00:00+01:00</td>\n",
       "      <td>2022-04-22 00:00:00+02:00</td>\n",
       "      <td>3220422030530482</td>\n",
       "    </tr>\n",
       "    <tr>\n",
       "      <th>2022-03-24</th>\n",
       "      <td>2022-02-18 00:00:00+01:00</td>\n",
       "      <td>2022-03-24 00:00:00+01:00</td>\n",
       "      <td>3220324030330656</td>\n",
       "    </tr>\n",
       "    <tr>\n",
       "      <th>2022-02-18</th>\n",
       "      <td>2022-01-21 00:00:00+01:00</td>\n",
       "      <td>2022-02-18 00:00:00+01:00</td>\n",
       "      <td>3220218030407570</td>\n",
       "    </tr>\n",
       "    <tr>\n",
       "      <th>2022-01-21</th>\n",
       "      <td>2021-12-21 00:00:00+01:00</td>\n",
       "      <td>2022-01-21 00:00:00+01:00</td>\n",
       "      <td>3220121030415529</td>\n",
       "    </tr>\n",
       "    <tr>\n",
       "      <th>2021-12-21</th>\n",
       "      <td>2021-11-22 00:00:00+01:00</td>\n",
       "      <td>2021-12-21 00:00:00+01:00</td>\n",
       "      <td>3211221030369889</td>\n",
       "    </tr>\n",
       "    <tr>\n",
       "      <th>2021-11-22</th>\n",
       "      <td>2021-10-21 00:00:00+02:00</td>\n",
       "      <td>2021-11-22 00:00:00+01:00</td>\n",
       "      <td>3211122030350007</td>\n",
       "    </tr>\n",
       "    <tr>\n",
       "      <th>2021-10-21</th>\n",
       "      <td>2021-09-21 00:00:00+02:00</td>\n",
       "      <td>2021-10-21 00:00:00+02:00</td>\n",
       "      <td>3211021030338376</td>\n",
       "    </tr>\n",
       "    <tr>\n",
       "      <th>2021-09-22</th>\n",
       "      <td>2021-08-23 00:00:00+02:00</td>\n",
       "      <td>2021-09-21 00:00:00+02:00</td>\n",
       "      <td>3210922030314273</td>\n",
       "    </tr>\n",
       "    <tr>\n",
       "      <th>2021-08-23</th>\n",
       "      <td>2021-07-27 00:00:00+02:00</td>\n",
       "      <td>2021-08-23 00:00:00+02:00</td>\n",
       "      <td>3210823030335902</td>\n",
       "    </tr>\n",
       "    <tr>\n",
       "      <th>2021-08-02</th>\n",
       "      <td>2021-06-22 00:00:00+02:00</td>\n",
       "      <td>2021-07-27 00:00:00+02:00</td>\n",
       "      <td>3210802030318533</td>\n",
       "    </tr>\n",
       "    <tr>\n",
       "      <th>2021-06-24</th>\n",
       "      <td>2021-06-01 00:00:00+02:00</td>\n",
       "      <td>2021-06-22 00:00:00+02:00</td>\n",
       "      <td>3210624030682018</td>\n",
       "    </tr>\n",
       "    <tr>\n",
       "      <th>2021-06-23</th>\n",
       "      <td>2021-05-21 00:00:00+02:00</td>\n",
       "      <td>2021-06-01 00:00:00+02:00</td>\n",
       "      <td>3210623030651317</td>\n",
       "    </tr>\n",
       "    <tr>\n",
       "      <th>2021-05-21</th>\n",
       "      <td>2021-04-22 00:00:00+02:00</td>\n",
       "      <td>2021-05-21 00:00:00+02:00</td>\n",
       "      <td>3210521030733054</td>\n",
       "    </tr>\n",
       "    <tr>\n",
       "      <th>2021-04-22</th>\n",
       "      <td>2021-03-24 00:00:00+01:00</td>\n",
       "      <td>2021-04-22 00:00:00+02:00</td>\n",
       "      <td>3210422030347677</td>\n",
       "    </tr>\n",
       "    <tr>\n",
       "      <th>2021-03-24</th>\n",
       "      <td>2021-02-17 00:00:00+01:00</td>\n",
       "      <td>2021-03-24 00:00:00+01:00</td>\n",
       "      <td>3210324030466875</td>\n",
       "    </tr>\n",
       "    <tr>\n",
       "      <th>2021-02-17</th>\n",
       "      <td>2021-01-20 00:00:00+01:00</td>\n",
       "      <td>2021-02-17 00:00:00+01:00</td>\n",
       "      <td>3210217030353547</td>\n",
       "    </tr>\n",
       "  </tbody>\n",
       "</table>\n",
       "</div>"
      ],
      "text/plain": [
       "                         fechaInicio                  fechaFin  \\\n",
       "factura                                                          \n",
       "2023-01-23 2023-01-09 00:00:00+01:00 2023-01-23 00:00:00+01:00   \n",
       "2023-01-09 2022-12-22 00:00:00+01:00 2023-01-09 00:00:00+01:00   \n",
       "2022-12-22 2022-11-22 00:00:00+01:00 2022-12-22 00:00:00+01:00   \n",
       "2022-11-22 2022-10-21 00:00:00+02:00 2022-11-22 00:00:00+01:00   \n",
       "2022-10-21 2022-09-27 00:00:00+02:00 2022-10-21 00:00:00+02:00   \n",
       "2022-09-27 2022-07-26 00:00:00+02:00 2022-09-27 00:00:00+02:00   \n",
       "2022-07-26 2022-06-23 00:00:00+02:00 2022-07-26 00:00:00+02:00   \n",
       "2022-06-28 2022-05-23 00:00:00+02:00 2022-06-23 00:00:00+02:00   \n",
       "2022-05-23 2022-04-22 00:00:00+02:00 2022-05-23 00:00:00+02:00   \n",
       "2022-04-22 2022-03-24 00:00:00+01:00 2022-04-22 00:00:00+02:00   \n",
       "2022-03-24 2022-02-18 00:00:00+01:00 2022-03-24 00:00:00+01:00   \n",
       "2022-02-18 2022-01-21 00:00:00+01:00 2022-02-18 00:00:00+01:00   \n",
       "2022-01-21 2021-12-21 00:00:00+01:00 2022-01-21 00:00:00+01:00   \n",
       "2021-12-21 2021-11-22 00:00:00+01:00 2021-12-21 00:00:00+01:00   \n",
       "2021-11-22 2021-10-21 00:00:00+02:00 2021-11-22 00:00:00+01:00   \n",
       "2021-10-21 2021-09-21 00:00:00+02:00 2021-10-21 00:00:00+02:00   \n",
       "2021-09-22 2021-08-23 00:00:00+02:00 2021-09-21 00:00:00+02:00   \n",
       "2021-08-23 2021-07-27 00:00:00+02:00 2021-08-23 00:00:00+02:00   \n",
       "2021-08-02 2021-06-22 00:00:00+02:00 2021-07-27 00:00:00+02:00   \n",
       "2021-06-24 2021-06-01 00:00:00+02:00 2021-06-22 00:00:00+02:00   \n",
       "2021-06-23 2021-05-21 00:00:00+02:00 2021-06-01 00:00:00+02:00   \n",
       "2021-05-21 2021-04-22 00:00:00+02:00 2021-05-21 00:00:00+02:00   \n",
       "2021-04-22 2021-03-24 00:00:00+01:00 2021-04-22 00:00:00+02:00   \n",
       "2021-03-24 2021-02-17 00:00:00+01:00 2021-03-24 00:00:00+01:00   \n",
       "2021-02-17 2021-01-20 00:00:00+01:00 2021-02-17 00:00:00+01:00   \n",
       "\n",
       "                      numero  \n",
       "factura                       \n",
       "2023-01-23  3230123030362980  \n",
       "2023-01-09  3230109030312833  \n",
       "2022-12-22  3221222030362782  \n",
       "2022-11-22  3221122030323849  \n",
       "2022-10-21  3221021030346154  \n",
       "2022-09-27  3220927030337878  \n",
       "2022-07-26  3220726030358467  \n",
       "2022-06-28  3220628030327990  \n",
       "2022-05-23  3220523030347163  \n",
       "2022-04-22  3220422030530482  \n",
       "2022-03-24  3220324030330656  \n",
       "2022-02-18  3220218030407570  \n",
       "2022-01-21  3220121030415529  \n",
       "2021-12-21  3211221030369889  \n",
       "2021-11-22  3211122030350007  \n",
       "2021-10-21  3211021030338376  \n",
       "2021-09-22  3210922030314273  \n",
       "2021-08-23  3210823030335902  \n",
       "2021-08-02  3210802030318533  \n",
       "2021-06-24  3210624030682018  \n",
       "2021-06-23  3210623030651317  \n",
       "2021-05-21  3210521030733054  \n",
       "2021-04-22  3210422030347677  \n",
       "2021-03-24  3210324030466875  \n",
       "2021-02-17  3210217030353547  "
      ]
     },
     "execution_count": 4,
     "metadata": {},
     "output_type": "execute_result"
    }
   ],
   "source": [
    "facturas=connection.facturas()\n",
    "facturas"
   ]
  },
  {
   "cell_type": "code",
   "execution_count": 6,
   "metadata": {},
   "outputs": [
    {
     "name": "stderr",
     "output_type": "stream",
     "text": [
      "INFO:root:recovering missing dates:0\n"
     ]
    }
   ],
   "source": [
    "##cc=connection.consumo(from_day,to_day)\n",
    "cc=connection.consumo_facturado(['2023-01-23'])\n",
    "cc=append_prices(cc)\n"
   ]
  },
  {
   "cell_type": "code",
   "execution_count": 7,
   "metadata": {},
   "outputs": [
    {
     "data": {
      "text/html": [
       "<div>\n",
       "<style scoped>\n",
       "    .dataframe tbody tr th:only-of-type {\n",
       "        vertical-align: middle;\n",
       "    }\n",
       "\n",
       "    .dataframe tbody tr th {\n",
       "        vertical-align: top;\n",
       "    }\n",
       "\n",
       "    .dataframe thead th {\n",
       "        text-align: right;\n",
       "    }\n",
       "</style>\n",
       "<table border=\"1\" class=\"dataframe\">\n",
       "  <thead>\n",
       "    <tr style=\"text-align: right;\">\n",
       "      <th></th>\n",
       "      <th>factura</th>\n",
       "      <th>consumo</th>\n",
       "      <th>tipo</th>\n",
       "      <th>periodo</th>\n",
       "      <th>factura_iberdrola</th>\n",
       "      <th>PCB_PRICE</th>\n",
       "      <th>EDCGASPCB_PRICE</th>\n",
       "      <th>TEUPCB_PRICE</th>\n",
       "      <th>PCB</th>\n",
       "      <th>EDCGASPCB</th>\n",
       "      <th>TEUPCB</th>\n",
       "    </tr>\n",
       "    <tr>\n",
       "      <th>fecha</th>\n",
       "      <th></th>\n",
       "      <th></th>\n",
       "      <th></th>\n",
       "      <th></th>\n",
       "      <th></th>\n",
       "      <th></th>\n",
       "      <th></th>\n",
       "      <th></th>\n",
       "      <th></th>\n",
       "      <th></th>\n",
       "      <th></th>\n",
       "    </tr>\n",
       "  </thead>\n",
       "  <tbody>\n",
       "    <tr>\n",
       "      <th>2023-01-09 01:00:00+01:00</th>\n",
       "      <td>2023-01-23</td>\n",
       "      <td>87.0</td>\n",
       "      <td>R</td>\n",
       "      <td>P3</td>\n",
       "      <td>3230123030362980</td>\n",
       "      <td>41.07</td>\n",
       "      <td>-2.90</td>\n",
       "      <td>3.18</td>\n",
       "      <td>0.003573</td>\n",
       "      <td>-0.000252</td>\n",
       "      <td>0.000277</td>\n",
       "    </tr>\n",
       "    <tr>\n",
       "      <th>2023-01-09 02:00:00+01:00</th>\n",
       "      <td>2023-01-23</td>\n",
       "      <td>76.0</td>\n",
       "      <td>R</td>\n",
       "      <td>P3</td>\n",
       "      <td>3230123030362980</td>\n",
       "      <td>43.12</td>\n",
       "      <td>-2.37</td>\n",
       "      <td>3.18</td>\n",
       "      <td>0.003277</td>\n",
       "      <td>-0.000180</td>\n",
       "      <td>0.000242</td>\n",
       "    </tr>\n",
       "    <tr>\n",
       "      <th>2023-01-09 03:00:00+01:00</th>\n",
       "      <td>2023-01-23</td>\n",
       "      <td>51.0</td>\n",
       "      <td>R</td>\n",
       "      <td>P3</td>\n",
       "      <td>3230123030362980</td>\n",
       "      <td>44.46</td>\n",
       "      <td>-2.36</td>\n",
       "      <td>3.18</td>\n",
       "      <td>0.002267</td>\n",
       "      <td>-0.000120</td>\n",
       "      <td>0.000162</td>\n",
       "    </tr>\n",
       "    <tr>\n",
       "      <th>2023-01-09 04:00:00+01:00</th>\n",
       "      <td>2023-01-23</td>\n",
       "      <td>88.0</td>\n",
       "      <td>R</td>\n",
       "      <td>P3</td>\n",
       "      <td>3230123030362980</td>\n",
       "      <td>47.64</td>\n",
       "      <td>-0.27</td>\n",
       "      <td>3.18</td>\n",
       "      <td>0.004192</td>\n",
       "      <td>-0.000024</td>\n",
       "      <td>0.000280</td>\n",
       "    </tr>\n",
       "    <tr>\n",
       "      <th>2023-01-09 05:00:00+01:00</th>\n",
       "      <td>2023-01-23</td>\n",
       "      <td>83.0</td>\n",
       "      <td>R</td>\n",
       "      <td>P3</td>\n",
       "      <td>3230123030362980</td>\n",
       "      <td>49.81</td>\n",
       "      <td>0.50</td>\n",
       "      <td>3.18</td>\n",
       "      <td>0.004134</td>\n",
       "      <td>0.000041</td>\n",
       "      <td>0.000264</td>\n",
       "    </tr>\n",
       "    <tr>\n",
       "      <th>...</th>\n",
       "      <td>...</td>\n",
       "      <td>...</td>\n",
       "      <td>...</td>\n",
       "      <td>...</td>\n",
       "      <td>...</td>\n",
       "      <td>...</td>\n",
       "      <td>...</td>\n",
       "      <td>...</td>\n",
       "      <td>...</td>\n",
       "      <td>...</td>\n",
       "      <td>...</td>\n",
       "    </tr>\n",
       "    <tr>\n",
       "      <th>2023-01-22 20:00:00+01:00</th>\n",
       "      <td>2023-01-23</td>\n",
       "      <td>261.0</td>\n",
       "      <td>R</td>\n",
       "      <td>P3</td>\n",
       "      <td>3230123030362980</td>\n",
       "      <td>127.23</td>\n",
       "      <td>-1.42</td>\n",
       "      <td>3.18</td>\n",
       "      <td>0.033207</td>\n",
       "      <td>-0.000371</td>\n",
       "      <td>0.000830</td>\n",
       "    </tr>\n",
       "    <tr>\n",
       "      <th>2023-01-22 21:00:00+01:00</th>\n",
       "      <td>2023-01-23</td>\n",
       "      <td>787.0</td>\n",
       "      <td>R</td>\n",
       "      <td>P3</td>\n",
       "      <td>3230123030362980</td>\n",
       "      <td>175.44</td>\n",
       "      <td>-0.68</td>\n",
       "      <td>3.18</td>\n",
       "      <td>0.138071</td>\n",
       "      <td>-0.000535</td>\n",
       "      <td>0.002503</td>\n",
       "    </tr>\n",
       "    <tr>\n",
       "      <th>2023-01-22 22:00:00+01:00</th>\n",
       "      <td>2023-01-23</td>\n",
       "      <td>611.0</td>\n",
       "      <td>R</td>\n",
       "      <td>P3</td>\n",
       "      <td>3230123030362980</td>\n",
       "      <td>169.94</td>\n",
       "      <td>-0.66</td>\n",
       "      <td>3.18</td>\n",
       "      <td>0.103833</td>\n",
       "      <td>-0.000403</td>\n",
       "      <td>0.001943</td>\n",
       "    </tr>\n",
       "    <tr>\n",
       "      <th>2023-01-22 23:00:00+01:00</th>\n",
       "      <td>2023-01-23</td>\n",
       "      <td>339.0</td>\n",
       "      <td>R</td>\n",
       "      <td>P3</td>\n",
       "      <td>3230123030362980</td>\n",
       "      <td>112.72</td>\n",
       "      <td>-1.28</td>\n",
       "      <td>3.18</td>\n",
       "      <td>0.038212</td>\n",
       "      <td>-0.000434</td>\n",
       "      <td>0.001078</td>\n",
       "    </tr>\n",
       "    <tr>\n",
       "      <th>2023-01-23 00:00:00+01:00</th>\n",
       "      <td>2023-01-23</td>\n",
       "      <td>276.0</td>\n",
       "      <td>R</td>\n",
       "      <td>P3</td>\n",
       "      <td>3230123030362980</td>\n",
       "      <td>92.22</td>\n",
       "      <td>-1.59</td>\n",
       "      <td>3.18</td>\n",
       "      <td>0.025453</td>\n",
       "      <td>-0.000439</td>\n",
       "      <td>0.000878</td>\n",
       "    </tr>\n",
       "  </tbody>\n",
       "</table>\n",
       "<p>336 rows × 11 columns</p>\n",
       "</div>"
      ],
      "text/plain": [
       "                              factura  consumo tipo periodo factura_iberdrola  \\\n",
       "fecha                                                                           \n",
       "2023-01-09 01:00:00+01:00  2023-01-23     87.0    R      P3  3230123030362980   \n",
       "2023-01-09 02:00:00+01:00  2023-01-23     76.0    R      P3  3230123030362980   \n",
       "2023-01-09 03:00:00+01:00  2023-01-23     51.0    R      P3  3230123030362980   \n",
       "2023-01-09 04:00:00+01:00  2023-01-23     88.0    R      P3  3230123030362980   \n",
       "2023-01-09 05:00:00+01:00  2023-01-23     83.0    R      P3  3230123030362980   \n",
       "...                               ...      ...  ...     ...               ...   \n",
       "2023-01-22 20:00:00+01:00  2023-01-23    261.0    R      P3  3230123030362980   \n",
       "2023-01-22 21:00:00+01:00  2023-01-23    787.0    R      P3  3230123030362980   \n",
       "2023-01-22 22:00:00+01:00  2023-01-23    611.0    R      P3  3230123030362980   \n",
       "2023-01-22 23:00:00+01:00  2023-01-23    339.0    R      P3  3230123030362980   \n",
       "2023-01-23 00:00:00+01:00  2023-01-23    276.0    R      P3  3230123030362980   \n",
       "\n",
       "                           PCB_PRICE  EDCGASPCB_PRICE  TEUPCB_PRICE       PCB  \\\n",
       "fecha                                                                           \n",
       "2023-01-09 01:00:00+01:00      41.07            -2.90          3.18  0.003573   \n",
       "2023-01-09 02:00:00+01:00      43.12            -2.37          3.18  0.003277   \n",
       "2023-01-09 03:00:00+01:00      44.46            -2.36          3.18  0.002267   \n",
       "2023-01-09 04:00:00+01:00      47.64            -0.27          3.18  0.004192   \n",
       "2023-01-09 05:00:00+01:00      49.81             0.50          3.18  0.004134   \n",
       "...                              ...              ...           ...       ...   \n",
       "2023-01-22 20:00:00+01:00     127.23            -1.42          3.18  0.033207   \n",
       "2023-01-22 21:00:00+01:00     175.44            -0.68          3.18  0.138071   \n",
       "2023-01-22 22:00:00+01:00     169.94            -0.66          3.18  0.103833   \n",
       "2023-01-22 23:00:00+01:00     112.72            -1.28          3.18  0.038212   \n",
       "2023-01-23 00:00:00+01:00      92.22            -1.59          3.18  0.025453   \n",
       "\n",
       "                           EDCGASPCB    TEUPCB  \n",
       "fecha                                           \n",
       "2023-01-09 01:00:00+01:00  -0.000252  0.000277  \n",
       "2023-01-09 02:00:00+01:00  -0.000180  0.000242  \n",
       "2023-01-09 03:00:00+01:00  -0.000120  0.000162  \n",
       "2023-01-09 04:00:00+01:00  -0.000024  0.000280  \n",
       "2023-01-09 05:00:00+01:00   0.000041  0.000264  \n",
       "...                              ...       ...  \n",
       "2023-01-22 20:00:00+01:00  -0.000371  0.000830  \n",
       "2023-01-22 21:00:00+01:00  -0.000535  0.002503  \n",
       "2023-01-22 22:00:00+01:00  -0.000403  0.001943  \n",
       "2023-01-22 23:00:00+01:00  -0.000434  0.001078  \n",
       "2023-01-23 00:00:00+01:00  -0.000439  0.000878  \n",
       "\n",
       "[336 rows x 11 columns]"
      ]
     },
     "execution_count": 7,
     "metadata": {},
     "output_type": "execute_result"
    }
   ],
   "source": [
    "cc"
   ]
  },
  {
   "cell_type": "code",
   "execution_count": 8,
   "metadata": {},
   "outputs": [
    {
     "data": {
      "text/plain": [
       "<AxesSubplot:xlabel='fecha'>"
      ]
     },
     "execution_count": 8,
     "metadata": {},
     "output_type": "execute_result"
    },
    {
     "data": {
      "image/png": "[encoded data removed]",
      "text/plain": [
       "<Figure size 432x288 with 1 Axes>"
      ]
     },
     "metadata": {
      "needs_background": "light"
     },
     "output_type": "display_data"
    }
   ],
   "source": [
    "cc.plot()"
   ]
  },
  {
   "cell_type": "code",
   "execution_count": 9,
   "metadata": {},
   "outputs": [],
   "source": [
    "cc.to_csv('consumos.csv',decimal=',')\n"
   ]
  },
  {
   "cell_type": "code",
   "execution_count": 10,
   "metadata": {},
   "outputs": [
    {
     "data": {
      "text/html": [
       "<div>\n",
       "<style scoped>\n",
       "    .dataframe tbody tr th:only-of-type {\n",
       "        vertical-align: middle;\n",
       "    }\n",
       "\n",
       "    .dataframe tbody tr th {\n",
       "        vertical-align: top;\n",
       "    }\n",
       "\n",
       "    .dataframe thead th {\n",
       "        text-align: right;\n",
       "    }\n",
       "</style>\n",
       "<table border=\"1\" class=\"dataframe\">\n",
       "  <thead>\n",
       "    <tr style=\"text-align: right;\">\n",
       "      <th></th>\n",
       "      <th>consumo</th>\n",
       "      <th>PCB</th>\n",
       "      <th>EDCGASPCB</th>\n",
       "      <th>TEUPCB</th>\n",
       "    </tr>\n",
       "    <tr>\n",
       "      <th>factura</th>\n",
       "      <th></th>\n",
       "      <th></th>\n",
       "      <th></th>\n",
       "      <th></th>\n",
       "    </tr>\n",
       "  </thead>\n",
       "  <tbody>\n",
       "    <tr>\n",
       "      <th>2023-01-23</th>\n",
       "      <td>77276.0</td>\n",
       "      <td>9.682714</td>\n",
       "      <td>0.113194</td>\n",
       "      <td>2.304853</td>\n",
       "    </tr>\n",
       "  </tbody>\n",
       "</table>\n",
       "</div>"
      ],
      "text/plain": [
       "            consumo       PCB  EDCGASPCB    TEUPCB\n",
       "factura                                           \n",
       "2023-01-23  77276.0  9.682714   0.113194  2.304853"
      ]
     },
     "execution_count": 10,
     "metadata": {},
     "output_type": "execute_result"
    }
   ],
   "source": [
    "totales=cc.groupby(['factura'])[['consumo','PCB','EDCGASPCB','TEUPCB']].sum()\n",
    "totales"
   ]
  },
  {
   "cell_type": "code",
   "execution_count": 11,
   "metadata": {},
   "outputs": [
    {
     "data": {
      "text/plain": [
       "0.0"
      ]
     },
     "execution_count": 11,
     "metadata": {},
     "output_type": "execute_result"
    }
   ],
   "source": [
    "cc['2022-08-25':'2022-09-30']['consumo'].sum()+cc['2022-10-01':'2022-10-24']['consumo'].sum()"
   ]
  },
  {
   "cell_type": "code",
   "execution_count": 12,
   "metadata": {},
   "outputs": [
    {
     "name": "stderr",
     "output_type": "stream",
     "text": [
      "<ipython-input-12-4a6b15d68e66>:1: FutureWarning: The default value of numeric_only in DataFrameGroupBy.sum is deprecated. In a future version, numeric_only will default to False. Either specify numeric_only or select only columns which should be valid for the function.\n",
      "  cc.groupby(['factura','tipo']).sum()\n"
     ]
    },
    {
     "data": {
      "text/html": [
       "<div>\n",
       "<style scoped>\n",
       "    .dataframe tbody tr th:only-of-type {\n",
       "        vertical-align: middle;\n",
       "    }\n",
       "\n",
       "    .dataframe tbody tr th {\n",
       "        vertical-align: top;\n",
       "    }\n",
       "\n",
       "    .dataframe thead th {\n",
       "        text-align: right;\n",
       "    }\n",
       "</style>\n",
       "<table border=\"1\" class=\"dataframe\">\n",
       "  <thead>\n",
       "    <tr style=\"text-align: right;\">\n",
       "      <th></th>\n",
       "      <th></th>\n",
       "      <th>consumo</th>\n",
       "      <th>PCB_PRICE</th>\n",
       "      <th>EDCGASPCB_PRICE</th>\n",
       "      <th>TEUPCB_PRICE</th>\n",
       "      <th>PCB</th>\n",
       "      <th>EDCGASPCB</th>\n",
       "      <th>TEUPCB</th>\n",
       "    </tr>\n",
       "    <tr>\n",
       "      <th>factura</th>\n",
       "      <th>tipo</th>\n",
       "      <th></th>\n",
       "      <th></th>\n",
       "      <th></th>\n",
       "      <th></th>\n",
       "      <th></th>\n",
       "      <th></th>\n",
       "      <th></th>\n",
       "    </tr>\n",
       "  </thead>\n",
       "  <tbody>\n",
       "    <tr>\n",
       "      <th>2023-01-23</th>\n",
       "      <th>R</th>\n",
       "      <td>77276.0</td>\n",
       "      <td>38896.99</td>\n",
       "      <td>443.83</td>\n",
       "      <td>8684.48</td>\n",
       "      <td>9.682714</td>\n",
       "      <td>0.113194</td>\n",
       "      <td>2.304853</td>\n",
       "    </tr>\n",
       "  </tbody>\n",
       "</table>\n",
       "</div>"
      ],
      "text/plain": [
       "                 consumo  PCB_PRICE  EDCGASPCB_PRICE  TEUPCB_PRICE       PCB  \\\n",
       "factura    tipo                                                                \n",
       "2023-01-23 R     77276.0   38896.99           443.83       8684.48  9.682714   \n",
       "\n",
       "                 EDCGASPCB    TEUPCB  \n",
       "factura    tipo                       \n",
       "2023-01-23 R      0.113194  2.304853  "
      ]
     },
     "execution_count": 12,
     "metadata": {},
     "output_type": "execute_result"
    }
   ],
   "source": [
    "cc.groupby(['factura','tipo']).sum()"
   ]
  },
  {
   "cell_type": "code",
   "execution_count": 13,
   "metadata": {},
   "outputs": [
    {
     "name": "stderr",
     "output_type": "stream",
     "text": [
      "<ipython-input-13-3d54d8d27882>:1: FutureWarning: The default value of numeric_only in DataFrameGroupBy.sum is deprecated. In a future version, numeric_only will default to False. Either specify numeric_only or select only columns which should be valid for the function.\n",
      "  cc.groupby(['factura','periodo']).sum()\n"
     ]
    },
    {
     "data": {
      "text/html": [
       "<div>\n",
       "<style scoped>\n",
       "    .dataframe tbody tr th:only-of-type {\n",
       "        vertical-align: middle;\n",
       "    }\n",
       "\n",
       "    .dataframe tbody tr th {\n",
       "        vertical-align: top;\n",
       "    }\n",
       "\n",
       "    .dataframe thead th {\n",
       "        text-align: right;\n",
       "    }\n",
       "</style>\n",
       "<table border=\"1\" class=\"dataframe\">\n",
       "  <thead>\n",
       "    <tr style=\"text-align: right;\">\n",
       "      <th></th>\n",
       "      <th></th>\n",
       "      <th>consumo</th>\n",
       "      <th>PCB_PRICE</th>\n",
       "      <th>EDCGASPCB_PRICE</th>\n",
       "      <th>TEUPCB_PRICE</th>\n",
       "      <th>PCB</th>\n",
       "      <th>EDCGASPCB</th>\n",
       "      <th>TEUPCB</th>\n",
       "    </tr>\n",
       "    <tr>\n",
       "      <th>factura</th>\n",
       "      <th>periodo</th>\n",
       "      <th></th>\n",
       "      <th></th>\n",
       "      <th></th>\n",
       "      <th></th>\n",
       "      <th></th>\n",
       "      <th></th>\n",
       "      <th></th>\n",
       "    </tr>\n",
       "  </thead>\n",
       "  <tbody>\n",
       "    <tr>\n",
       "      <th rowspan=\"3\" valign=\"top\">2023-01-23</th>\n",
       "      <th>P1</th>\n",
       "      <td>21931.0</td>\n",
       "      <td>15419.27</td>\n",
       "      <td>189.23</td>\n",
       "      <td>5839.20</td>\n",
       "      <td>4.382685</td>\n",
       "      <td>0.062765</td>\n",
       "      <td>1.600744</td>\n",
       "    </tr>\n",
       "    <tr>\n",
       "      <th>P2</th>\n",
       "      <td>20800.0</td>\n",
       "      <td>10199.03</td>\n",
       "      <td>152.19</td>\n",
       "      <td>2285.60</td>\n",
       "      <td>2.614799</td>\n",
       "      <td>0.043862</td>\n",
       "      <td>0.594256</td>\n",
       "    </tr>\n",
       "    <tr>\n",
       "      <th>P3</th>\n",
       "      <td>34545.0</td>\n",
       "      <td>13278.69</td>\n",
       "      <td>102.41</td>\n",
       "      <td>559.68</td>\n",
       "      <td>2.685230</td>\n",
       "      <td>0.006568</td>\n",
       "      <td>0.109853</td>\n",
       "    </tr>\n",
       "  </tbody>\n",
       "</table>\n",
       "</div>"
      ],
      "text/plain": [
       "                    consumo  PCB_PRICE  EDCGASPCB_PRICE  TEUPCB_PRICE  \\\n",
       "factura    periodo                                                      \n",
       "2023-01-23 P1       21931.0   15419.27           189.23       5839.20   \n",
       "           P2       20800.0   10199.03           152.19       2285.60   \n",
       "           P3       34545.0   13278.69           102.41        559.68   \n",
       "\n",
       "                         PCB  EDCGASPCB    TEUPCB  \n",
       "factura    periodo                                 \n",
       "2023-01-23 P1       4.382685   0.062765  1.600744  \n",
       "           P2       2.614799   0.043862  0.594256  \n",
       "           P3       2.685230   0.006568  0.109853  "
      ]
     },
     "execution_count": 13,
     "metadata": {},
     "output_type": "execute_result"
    }
   ],
   "source": [
    "cc.groupby(['factura','periodo']).sum()"
   ]
  },
  {
   "cell_type": "code",
   "execution_count": 14,
   "metadata": {},
   "outputs": [
    {
     "name": "stderr",
     "output_type": "stream",
     "text": [
      "<ipython-input-14-637501761a56>:1: FutureWarning: The default value of numeric_only in DataFrameGroupBy.sum is deprecated. In a future version, numeric_only will default to False. Either specify numeric_only or select only columns which should be valid for the function.\n",
      "  cc.groupby(['factura','periodo','tipo']).sum()\n"
     ]
    },
    {
     "data": {
      "text/html": [
       "<div>\n",
       "<style scoped>\n",
       "    .dataframe tbody tr th:only-of-type {\n",
       "        vertical-align: middle;\n",
       "    }\n",
       "\n",
       "    .dataframe tbody tr th {\n",
       "        vertical-align: top;\n",
       "    }\n",
       "\n",
       "    .dataframe thead th {\n",
       "        text-align: right;\n",
       "    }\n",
       "</style>\n",
       "<table border=\"1\" class=\"dataframe\">\n",
       "  <thead>\n",
       "    <tr style=\"text-align: right;\">\n",
       "      <th></th>\n",
       "      <th></th>\n",
       "      <th></th>\n",
       "      <th>consumo</th>\n",
       "      <th>PCB_PRICE</th>\n",
       "      <th>EDCGASPCB_PRICE</th>\n",
       "      <th>TEUPCB_PRICE</th>\n",
       "      <th>PCB</th>\n",
       "      <th>EDCGASPCB</th>\n",
       "      <th>TEUPCB</th>\n",
       "    </tr>\n",
       "    <tr>\n",
       "      <th>factura</th>\n",
       "      <th>periodo</th>\n",
       "      <th>tipo</th>\n",
       "      <th></th>\n",
       "      <th></th>\n",
       "      <th></th>\n",
       "      <th></th>\n",
       "      <th></th>\n",
       "      <th></th>\n",
       "      <th></th>\n",
       "    </tr>\n",
       "  </thead>\n",
       "  <tbody>\n",
       "    <tr>\n",
       "      <th rowspan=\"3\" valign=\"top\">2023-01-23</th>\n",
       "      <th>P1</th>\n",
       "      <th>R</th>\n",
       "      <td>21931.0</td>\n",
       "      <td>15419.27</td>\n",
       "      <td>189.23</td>\n",
       "      <td>5839.20</td>\n",
       "      <td>4.382685</td>\n",
       "      <td>0.062765</td>\n",
       "      <td>1.600744</td>\n",
       "    </tr>\n",
       "    <tr>\n",
       "      <th>P2</th>\n",
       "      <th>R</th>\n",
       "      <td>20800.0</td>\n",
       "      <td>10199.03</td>\n",
       "      <td>152.19</td>\n",
       "      <td>2285.60</td>\n",
       "      <td>2.614799</td>\n",
       "      <td>0.043862</td>\n",
       "      <td>0.594256</td>\n",
       "    </tr>\n",
       "    <tr>\n",
       "      <th>P3</th>\n",
       "      <th>R</th>\n",
       "      <td>34545.0</td>\n",
       "      <td>13278.69</td>\n",
       "      <td>102.41</td>\n",
       "      <td>559.68</td>\n",
       "      <td>2.685230</td>\n",
       "      <td>0.006568</td>\n",
       "      <td>0.109853</td>\n",
       "    </tr>\n",
       "  </tbody>\n",
       "</table>\n",
       "</div>"
      ],
      "text/plain": [
       "                         consumo  PCB_PRICE  EDCGASPCB_PRICE  TEUPCB_PRICE  \\\n",
       "factura    periodo tipo                                                      \n",
       "2023-01-23 P1      R     21931.0   15419.27           189.23       5839.20   \n",
       "           P2      R     20800.0   10199.03           152.19       2285.60   \n",
       "           P3      R     34545.0   13278.69           102.41        559.68   \n",
       "\n",
       "                              PCB  EDCGASPCB    TEUPCB  \n",
       "factura    periodo tipo                                 \n",
       "2023-01-23 P1      R     4.382685   0.062765  1.600744  \n",
       "           P2      R     2.614799   0.043862  0.594256  \n",
       "           P3      R     2.685230   0.006568  0.109853  "
      ]
     },
     "execution_count": 14,
     "metadata": {},
     "output_type": "execute_result"
    }
   ],
   "source": [
    "cc.groupby(['factura','periodo','tipo']).sum()"
   ]
  },
  {
   "cell_type": "code",
   "execution_count": 15,
   "metadata": {},
   "outputs": [
    {
     "name": "stderr",
     "output_type": "stream",
     "text": [
      "<ipython-input-15-f9d6a7d50a59>:1: FutureWarning: The default value of numeric_only in DataFrameGroupBy.sum is deprecated. In a future version, numeric_only will default to False. Either specify numeric_only or select only columns which should be valid for the function.\n",
      "  sns.barplot(data=cc.groupby(['factura','periodo']).sum().reset_index(),x='factura',y='consumo',hue='periodo')\n"
     ]
    },
    {
     "data": {
      "text/plain": [
       "<AxesSubplot:xlabel='factura', ylabel='consumo'>"
      ]
     },
     "execution_count": 15,
     "metadata": {},
     "output_type": "execute_result"
    },
    {
     "data": {
      "image/png": "[encoded data removed]",
      "text/plain": [
       "<Figure size 432x288 with 1 Axes>"
      ]
     },
     "metadata": {
      "needs_background": "light"
     },
     "output_type": "display_data"
    }
   ],
   "source": [
    "sns.barplot(data=cc.groupby(['factura','periodo']).sum().reset_index(),x='factura',y='consumo',hue='periodo')"
   ]
  },
  {
   "cell_type": "code",
   "execution_count": 16,
   "metadata": {},
   "outputs": [
    {
     "data": {
      "text/plain": [
       "<AxesSubplot:>"
      ]
     },
     "execution_count": 16,
     "metadata": {},
     "output_type": "execute_result"
    },
    {
     "data": {
      "image/png": "[encoded data removed]",
      "text/plain": [
       "<Figure size 432x288 with 1 Axes>"
      ]
     },
     "metadata": {
      "needs_background": "light"
     },
     "output_type": "display_data"
    }
   ],
   "source": [
    "cc.consumo.hist(bins=100)"
   ]
  },
  {
   "cell_type": "code",
   "execution_count": 17,
   "metadata": {},
   "outputs": [
    {
     "data": {
      "text/plain": [
       "36.0"
      ]
     },
     "execution_count": 17,
     "metadata": {},
     "output_type": "execute_result"
    }
   ],
   "source": [
    "cc.consumo.min()"
   ]
  },
  {
   "cell_type": "code",
   "execution_count": 18,
   "metadata": {},
   "outputs": [
    {
     "data": {
      "text/plain": [
       "20398.0"
      ]
     },
     "execution_count": 18,
     "metadata": {},
     "output_type": "execute_result"
    }
   ],
   "source": [
    "cc[cc.consumo<200].consumo.sum()"
   ]
  },
  {
   "cell_type": "code",
   "execution_count": null,
   "metadata": {},
   "outputs": [],
   "source": []
  }
 ],
 "metadata": {
  "kernelspec": {
   "display_name": "venv",
   "language": "python",
   "name": "python3"
  },
  "language_info": {
   "codemirror_mode": {
    "name": "ipython",
    "version": 3
   },
   "file_extension": ".py",
   "mimetype": "text/x-python",
   "name": "python",
   "nbconvert_exporter": "python",
   "pygments_lexer": "ipython3",
   "version": "3.8.5"
  },
  "orig_nbformat": 4,
  "vscode": {
   "interpreter": {
    "hash": "48c12402683cdc41122f26348aafc0a6248f4a45be055a22318b9c67bb451a6f"
   }
  }
 },
 "nbformat": 4,
 "nbformat_minor": 2
}
