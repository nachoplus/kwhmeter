{
 "cells": [
  {
   "attachments": {},
   "cell_type": "markdown",
   "metadata": {},
   "source": [
    "## Pruebas del modulo de acceso a los datos de contador"
   ]
  },
  {
   "cell_type": "code",
   "execution_count": 1,
   "metadata": {},
   "outputs": [],
   "source": [
    "import pandas as pd\n",
    "from kwhmeter import suministro,contador, timezone, append_prices, read_config\n",
    "from datetime import datetime, timedelta\n",
    "import seaborn as sns\n"
   ]
  },
  {
   "cell_type": "code",
   "execution_count": 2,
   "metadata": {},
   "outputs": [
    {
     "name": "stdout",
     "output_type": "stream",
     "text": [
      "Existen 9 facturas. Desde: 2022-06-15 00:00:00+02:00 hasta:2023-01-24 00:00:00+01:00\n"
     ]
    }
   ],
   "source": [
    "credenciales=read_config()\n",
    "connection = contador(**credenciales['alarcon'])\n",
    "#connection = contador(iberdrola,user,password)  #equivalente\n",
    "#connection = suministro('alarcon')  #equivalente"
   ]
  },
  {
   "cell_type": "code",
   "execution_count": 3,
   "metadata": {},
   "outputs": [
    {
     "name": "stdout",
     "output_type": "stream",
     "text": [
      "Recuperando datos desde: 2023-01-16 00:00:00+01:00 hasta:2023-01-19 00:00:00+01:00\n"
     ]
    }
   ],
   "source": [
    "\n",
    "to_day = timezone.localize(datetime(2023,1,19)-timedelta(days=0))\n",
    "from_day=to_day-timedelta(days=3)\n",
    "\n",
    "print(f'Recuperando datos desde: {from_day} hasta:{to_day}')\n"
   ]
  },
  {
   "cell_type": "markdown",
   "metadata": {},
   "source": []
  },
  {
   "cell_type": "code",
   "execution_count": 4,
   "metadata": {},
   "outputs": [
    {
     "data": {
      "text/html": [
       "<div>\n",
       "<style scoped>\n",
       "    .dataframe tbody tr th:only-of-type {\n",
       "        vertical-align: middle;\n",
       "    }\n",
       "\n",
       "    .dataframe tbody tr th {\n",
       "        vertical-align: top;\n",
       "    }\n",
       "\n",
       "    .dataframe thead th {\n",
       "        text-align: right;\n",
       "    }\n",
       "</style>\n",
       "<table border=\"1\" class=\"dataframe\">\n",
       "  <thead>\n",
       "    <tr style=\"text-align: right;\">\n",
       "      <th></th>\n",
       "      <th>fechaInicio</th>\n",
       "      <th>fechaFin</th>\n",
       "    </tr>\n",
       "    <tr>\n",
       "      <th>factura</th>\n",
       "      <th></th>\n",
       "      <th></th>\n",
       "    </tr>\n",
       "  </thead>\n",
       "  <tbody>\n",
       "    <tr>\n",
       "      <th>2023-01-25</th>\n",
       "      <td>2023-01-05 00:00:00+01:00</td>\n",
       "      <td>2023-01-24 00:00:00+01:00</td>\n",
       "    </tr>\n",
       "    <tr>\n",
       "      <th>2023-01-04</th>\n",
       "      <td>2022-12-25 00:00:00+01:00</td>\n",
       "      <td>2023-01-03 00:00:00+01:00</td>\n",
       "    </tr>\n",
       "    <tr>\n",
       "      <th>2022-12-25</th>\n",
       "      <td>2022-11-25 00:00:00+01:00</td>\n",
       "      <td>2022-12-24 00:00:00+01:00</td>\n",
       "    </tr>\n",
       "    <tr>\n",
       "      <th>2022-11-25</th>\n",
       "      <td>2022-10-25 00:00:00+02:00</td>\n",
       "      <td>2022-11-24 00:00:00+01:00</td>\n",
       "    </tr>\n",
       "    <tr>\n",
       "      <th>2022-10-25</th>\n",
       "      <td>2022-09-25 00:00:00+02:00</td>\n",
       "      <td>2022-10-24 00:00:00+02:00</td>\n",
       "    </tr>\n",
       "    <tr>\n",
       "      <th>2022-09-25</th>\n",
       "      <td>2022-08-25 00:00:00+02:00</td>\n",
       "      <td>2022-09-24 00:00:00+02:00</td>\n",
       "    </tr>\n",
       "    <tr>\n",
       "      <th>2022-08-25</th>\n",
       "      <td>2022-07-25 00:00:00+02:00</td>\n",
       "      <td>2022-08-24 00:00:00+02:00</td>\n",
       "    </tr>\n",
       "    <tr>\n",
       "      <th>2022-07-25</th>\n",
       "      <td>2022-06-25 00:00:00+02:00</td>\n",
       "      <td>2022-07-24 00:00:00+02:00</td>\n",
       "    </tr>\n",
       "    <tr>\n",
       "      <th>2022-06-25</th>\n",
       "      <td>2022-06-15 00:00:00+02:00</td>\n",
       "      <td>2022-06-24 00:00:00+02:00</td>\n",
       "    </tr>\n",
       "  </tbody>\n",
       "</table>\n",
       "</div>"
      ],
      "text/plain": [
       "                         fechaInicio                  fechaFin\n",
       "factura                                                       \n",
       "2023-01-25 2023-01-05 00:00:00+01:00 2023-01-24 00:00:00+01:00\n",
       "2023-01-04 2022-12-25 00:00:00+01:00 2023-01-03 00:00:00+01:00\n",
       "2022-12-25 2022-11-25 00:00:00+01:00 2022-12-24 00:00:00+01:00\n",
       "2022-11-25 2022-10-25 00:00:00+02:00 2022-11-24 00:00:00+01:00\n",
       "2022-10-25 2022-09-25 00:00:00+02:00 2022-10-24 00:00:00+02:00\n",
       "2022-09-25 2022-08-25 00:00:00+02:00 2022-09-24 00:00:00+02:00\n",
       "2022-08-25 2022-07-25 00:00:00+02:00 2022-08-24 00:00:00+02:00\n",
       "2022-07-25 2022-06-25 00:00:00+02:00 2022-07-24 00:00:00+02:00\n",
       "2022-06-25 2022-06-15 00:00:00+02:00 2022-06-24 00:00:00+02:00"
      ]
     },
     "execution_count": 4,
     "metadata": {},
     "output_type": "execute_result"
    }
   ],
   "source": [
    "facturas=connection.facturas()\n",
    "facturas"
   ]
  },
  {
   "cell_type": "code",
   "execution_count": 7,
   "metadata": {},
   "outputs": [
    {
     "name": "stderr",
     "output_type": "stream",
     "text": [
      "INFO:root:recovering missing dates:0\n"
     ]
    }
   ],
   "source": [
    "#cc=connection.consumo(from_day,to_day)\n",
    "cc=connection.consumo_facturado(['2023-01-25'])\n",
    "cc=append_prices(cc)\n"
   ]
  },
  {
   "cell_type": "code",
   "execution_count": 8,
   "metadata": {},
   "outputs": [
    {
     "data": {
      "text/html": [
       "<div>\n",
       "<style scoped>\n",
       "    .dataframe tbody tr th:only-of-type {\n",
       "        vertical-align: middle;\n",
       "    }\n",
       "\n",
       "    .dataframe tbody tr th {\n",
       "        vertical-align: top;\n",
       "    }\n",
       "\n",
       "    .dataframe thead th {\n",
       "        text-align: right;\n",
       "    }\n",
       "</style>\n",
       "<table border=\"1\" class=\"dataframe\">\n",
       "  <thead>\n",
       "    <tr style=\"text-align: right;\">\n",
       "      <th></th>\n",
       "      <th>consumo</th>\n",
       "      <th>tipo</th>\n",
       "      <th>periodo</th>\n",
       "      <th>factura</th>\n",
       "      <th>PCB_PRICE</th>\n",
       "      <th>EDCGASPCB_PRICE</th>\n",
       "      <th>TEUPCB_PRICE</th>\n",
       "      <th>PCB</th>\n",
       "      <th>EDCGASPCB</th>\n",
       "      <th>TEUPCB</th>\n",
       "    </tr>\n",
       "    <tr>\n",
       "      <th>fecha</th>\n",
       "      <th></th>\n",
       "      <th></th>\n",
       "      <th></th>\n",
       "      <th></th>\n",
       "      <th></th>\n",
       "      <th></th>\n",
       "      <th></th>\n",
       "      <th></th>\n",
       "      <th></th>\n",
       "      <th></th>\n",
       "    </tr>\n",
       "  </thead>\n",
       "  <tbody>\n",
       "    <tr>\n",
       "      <th>2023-01-05 01:00:00+01:00</th>\n",
       "      <td>54.0</td>\n",
       "      <td>R</td>\n",
       "      <td>P3</td>\n",
       "      <td>2023-01-25</td>\n",
       "      <td>147.83</td>\n",
       "      <td>7.24</td>\n",
       "      <td>3.18</td>\n",
       "      <td>0.007983</td>\n",
       "      <td>0.000391</td>\n",
       "      <td>0.000172</td>\n",
       "    </tr>\n",
       "    <tr>\n",
       "      <th>2023-01-05 02:00:00+01:00</th>\n",
       "      <td>35.0</td>\n",
       "      <td>R</td>\n",
       "      <td>P3</td>\n",
       "      <td>2023-01-25</td>\n",
       "      <td>134.53</td>\n",
       "      <td>6.89</td>\n",
       "      <td>3.18</td>\n",
       "      <td>0.004709</td>\n",
       "      <td>0.000241</td>\n",
       "      <td>0.000111</td>\n",
       "    </tr>\n",
       "    <tr>\n",
       "      <th>2023-01-05 03:00:00+01:00</th>\n",
       "      <td>34.0</td>\n",
       "      <td>R</td>\n",
       "      <td>P3</td>\n",
       "      <td>2023-01-25</td>\n",
       "      <td>125.31</td>\n",
       "      <td>8.05</td>\n",
       "      <td>3.18</td>\n",
       "      <td>0.004261</td>\n",
       "      <td>0.000274</td>\n",
       "      <td>0.000108</td>\n",
       "    </tr>\n",
       "    <tr>\n",
       "      <th>2023-01-05 04:00:00+01:00</th>\n",
       "      <td>31.0</td>\n",
       "      <td>R</td>\n",
       "      <td>P3</td>\n",
       "      <td>2023-01-25</td>\n",
       "      <td>120.36</td>\n",
       "      <td>6.73</td>\n",
       "      <td>3.18</td>\n",
       "      <td>0.003731</td>\n",
       "      <td>0.000209</td>\n",
       "      <td>0.000099</td>\n",
       "    </tr>\n",
       "    <tr>\n",
       "      <th>2023-01-05 05:00:00+01:00</th>\n",
       "      <td>28.0</td>\n",
       "      <td>R</td>\n",
       "      <td>P3</td>\n",
       "      <td>2023-01-25</td>\n",
       "      <td>118.39</td>\n",
       "      <td>7.33</td>\n",
       "      <td>3.18</td>\n",
       "      <td>0.003315</td>\n",
       "      <td>0.000205</td>\n",
       "      <td>0.000089</td>\n",
       "    </tr>\n",
       "    <tr>\n",
       "      <th>...</th>\n",
       "      <td>...</td>\n",
       "      <td>...</td>\n",
       "      <td>...</td>\n",
       "      <td>...</td>\n",
       "      <td>...</td>\n",
       "      <td>...</td>\n",
       "      <td>...</td>\n",
       "      <td>...</td>\n",
       "      <td>...</td>\n",
       "      <td>...</td>\n",
       "    </tr>\n",
       "    <tr>\n",
       "      <th>2023-01-23 20:00:00+01:00</th>\n",
       "      <td>516.0</td>\n",
       "      <td>R</td>\n",
       "      <td>P1</td>\n",
       "      <td>2023-01-25</td>\n",
       "      <td>276.14</td>\n",
       "      <td>1.72</td>\n",
       "      <td>72.99</td>\n",
       "      <td>0.142488</td>\n",
       "      <td>0.000888</td>\n",
       "      <td>0.037663</td>\n",
       "    </tr>\n",
       "    <tr>\n",
       "      <th>2023-01-23 21:00:00+01:00</th>\n",
       "      <td>321.0</td>\n",
       "      <td>R</td>\n",
       "      <td>P1</td>\n",
       "      <td>2023-01-25</td>\n",
       "      <td>277.91</td>\n",
       "      <td>1.93</td>\n",
       "      <td>72.99</td>\n",
       "      <td>0.089209</td>\n",
       "      <td>0.000620</td>\n",
       "      <td>0.023430</td>\n",
       "    </tr>\n",
       "    <tr>\n",
       "      <th>2023-01-23 22:00:00+01:00</th>\n",
       "      <td>95.0</td>\n",
       "      <td>R</td>\n",
       "      <td>P1</td>\n",
       "      <td>2023-01-25</td>\n",
       "      <td>268.87</td>\n",
       "      <td>1.27</td>\n",
       "      <td>72.99</td>\n",
       "      <td>0.025543</td>\n",
       "      <td>0.000121</td>\n",
       "      <td>0.006934</td>\n",
       "    </tr>\n",
       "    <tr>\n",
       "      <th>2023-01-23 23:00:00+01:00</th>\n",
       "      <td>63.0</td>\n",
       "      <td>R</td>\n",
       "      <td>P2</td>\n",
       "      <td>2023-01-25</td>\n",
       "      <td>141.22</td>\n",
       "      <td>1.41</td>\n",
       "      <td>28.57</td>\n",
       "      <td>0.008897</td>\n",
       "      <td>0.000089</td>\n",
       "      <td>0.001800</td>\n",
       "    </tr>\n",
       "    <tr>\n",
       "      <th>2023-01-24 00:00:00+01:00</th>\n",
       "      <td>33.0</td>\n",
       "      <td>R</td>\n",
       "      <td>P2</td>\n",
       "      <td>2023-01-25</td>\n",
       "      <td>125.67</td>\n",
       "      <td>1.17</td>\n",
       "      <td>28.57</td>\n",
       "      <td>0.004147</td>\n",
       "      <td>0.000039</td>\n",
       "      <td>0.000943</td>\n",
       "    </tr>\n",
       "  </tbody>\n",
       "</table>\n",
       "<p>456 rows × 10 columns</p>\n",
       "</div>"
      ],
      "text/plain": [
       "                           consumo tipo periodo     factura  PCB_PRICE  \\\n",
       "fecha                                                                    \n",
       "2023-01-05 01:00:00+01:00     54.0    R      P3  2023-01-25     147.83   \n",
       "2023-01-05 02:00:00+01:00     35.0    R      P3  2023-01-25     134.53   \n",
       "2023-01-05 03:00:00+01:00     34.0    R      P3  2023-01-25     125.31   \n",
       "2023-01-05 04:00:00+01:00     31.0    R      P3  2023-01-25     120.36   \n",
       "2023-01-05 05:00:00+01:00     28.0    R      P3  2023-01-25     118.39   \n",
       "...                            ...  ...     ...         ...        ...   \n",
       "2023-01-23 20:00:00+01:00    516.0    R      P1  2023-01-25     276.14   \n",
       "2023-01-23 21:00:00+01:00    321.0    R      P1  2023-01-25     277.91   \n",
       "2023-01-23 22:00:00+01:00     95.0    R      P1  2023-01-25     268.87   \n",
       "2023-01-23 23:00:00+01:00     63.0    R      P2  2023-01-25     141.22   \n",
       "2023-01-24 00:00:00+01:00     33.0    R      P2  2023-01-25     125.67   \n",
       "\n",
       "                           EDCGASPCB_PRICE  TEUPCB_PRICE       PCB  EDCGASPCB  \\\n",
       "fecha                                                                           \n",
       "2023-01-05 01:00:00+01:00             7.24          3.18  0.007983   0.000391   \n",
       "2023-01-05 02:00:00+01:00             6.89          3.18  0.004709   0.000241   \n",
       "2023-01-05 03:00:00+01:00             8.05          3.18  0.004261   0.000274   \n",
       "2023-01-05 04:00:00+01:00             6.73          3.18  0.003731   0.000209   \n",
       "2023-01-05 05:00:00+01:00             7.33          3.18  0.003315   0.000205   \n",
       "...                                    ...           ...       ...        ...   \n",
       "2023-01-23 20:00:00+01:00             1.72         72.99  0.142488   0.000888   \n",
       "2023-01-23 21:00:00+01:00             1.93         72.99  0.089209   0.000620   \n",
       "2023-01-23 22:00:00+01:00             1.27         72.99  0.025543   0.000121   \n",
       "2023-01-23 23:00:00+01:00             1.41         28.57  0.008897   0.000089   \n",
       "2023-01-24 00:00:00+01:00             1.17         28.57  0.004147   0.000039   \n",
       "\n",
       "                             TEUPCB  \n",
       "fecha                                \n",
       "2023-01-05 01:00:00+01:00  0.000172  \n",
       "2023-01-05 02:00:00+01:00  0.000111  \n",
       "2023-01-05 03:00:00+01:00  0.000108  \n",
       "2023-01-05 04:00:00+01:00  0.000099  \n",
       "2023-01-05 05:00:00+01:00  0.000089  \n",
       "...                             ...  \n",
       "2023-01-23 20:00:00+01:00  0.037663  \n",
       "2023-01-23 21:00:00+01:00  0.023430  \n",
       "2023-01-23 22:00:00+01:00  0.006934  \n",
       "2023-01-23 23:00:00+01:00  0.001800  \n",
       "2023-01-24 00:00:00+01:00  0.000943  \n",
       "\n",
       "[456 rows x 10 columns]"
      ]
     },
     "execution_count": 8,
     "metadata": {},
     "output_type": "execute_result"
    }
   ],
   "source": [
    "cc"
   ]
  },
  {
   "cell_type": "code",
   "execution_count": 9,
   "metadata": {},
   "outputs": [
    {
     "data": {
      "text/plain": [
       "<AxesSubplot:xlabel='fecha'>"
      ]
     },
     "execution_count": 9,
     "metadata": {},
     "output_type": "execute_result"
    },
    {
     "data": {
      "image/png": "[encoded data removed]",
      "text/plain": [
       "<Figure size 432x288 with 1 Axes>"
      ]
     },
     "metadata": {
      "needs_background": "light"
     },
     "output_type": "display_data"
    }
   ],
   "source": [
    "cc.plot()"
   ]
  },
  {
   "cell_type": "code",
   "execution_count": 10,
   "metadata": {},
   "outputs": [],
   "source": [
    "cc.to_csv('consumos.csv',decimal=',')\n"
   ]
  },
  {
   "cell_type": "code",
   "execution_count": 11,
   "metadata": {},
   "outputs": [
    {
     "data": {
      "text/html": [
       "<div>\n",
       "<style scoped>\n",
       "    .dataframe tbody tr th:only-of-type {\n",
       "        vertical-align: middle;\n",
       "    }\n",
       "\n",
       "    .dataframe tbody tr th {\n",
       "        vertical-align: top;\n",
       "    }\n",
       "\n",
       "    .dataframe thead th {\n",
       "        text-align: right;\n",
       "    }\n",
       "</style>\n",
       "<table border=\"1\" class=\"dataframe\">\n",
       "  <thead>\n",
       "    <tr style=\"text-align: right;\">\n",
       "      <th></th>\n",
       "      <th>consumo</th>\n",
       "      <th>PCB</th>\n",
       "      <th>EDCGASPCB</th>\n",
       "      <th>TEUPCB</th>\n",
       "    </tr>\n",
       "    <tr>\n",
       "      <th>factura</th>\n",
       "      <th></th>\n",
       "      <th></th>\n",
       "      <th></th>\n",
       "      <th></th>\n",
       "    </tr>\n",
       "  </thead>\n",
       "  <tbody>\n",
       "    <tr>\n",
       "      <th>2023-01-25</th>\n",
       "      <td>17530.0</td>\n",
       "      <td>2.163359</td>\n",
       "      <td>0.042347</td>\n",
       "      <td>0.417798</td>\n",
       "    </tr>\n",
       "  </tbody>\n",
       "</table>\n",
       "</div>"
      ],
      "text/plain": [
       "            consumo       PCB  EDCGASPCB    TEUPCB\n",
       "factura                                           \n",
       "2023-01-25  17530.0  2.163359   0.042347  0.417798"
      ]
     },
     "execution_count": 11,
     "metadata": {},
     "output_type": "execute_result"
    }
   ],
   "source": [
    "totales=cc.groupby(['factura'])[['consumo','PCB','EDCGASPCB','TEUPCB']].sum()\n",
    "totales"
   ]
  },
  {
   "cell_type": "code",
   "execution_count": 12,
   "metadata": {},
   "outputs": [
    {
     "data": {
      "text/plain": [
       "0.0"
      ]
     },
     "execution_count": 12,
     "metadata": {},
     "output_type": "execute_result"
    }
   ],
   "source": [
    "cc['2022-08-25':'2022-09-30']['consumo'].sum()+cc['2022-10-01':'2022-10-24']['consumo'].sum()"
   ]
  },
  {
   "cell_type": "code",
   "execution_count": 13,
   "metadata": {},
   "outputs": [
    {
     "name": "stderr",
     "output_type": "stream",
     "text": [
      "<ipython-input-13-4a6b15d68e66>:1: FutureWarning: The default value of numeric_only in DataFrameGroupBy.sum is deprecated. In a future version, numeric_only will default to False. Either specify numeric_only or select only columns which should be valid for the function.\n",
      "  cc.groupby(['factura','tipo']).sum()\n"
     ]
    },
    {
     "data": {
      "text/html": [
       "<div>\n",
       "<style scoped>\n",
       "    .dataframe tbody tr th:only-of-type {\n",
       "        vertical-align: middle;\n",
       "    }\n",
       "\n",
       "    .dataframe tbody tr th {\n",
       "        vertical-align: top;\n",
       "    }\n",
       "\n",
       "    .dataframe thead th {\n",
       "        text-align: right;\n",
       "    }\n",
       "</style>\n",
       "<table border=\"1\" class=\"dataframe\">\n",
       "  <thead>\n",
       "    <tr style=\"text-align: right;\">\n",
       "      <th></th>\n",
       "      <th></th>\n",
       "      <th>consumo</th>\n",
       "      <th>PCB_PRICE</th>\n",
       "      <th>EDCGASPCB_PRICE</th>\n",
       "      <th>TEUPCB_PRICE</th>\n",
       "      <th>PCB</th>\n",
       "      <th>EDCGASPCB</th>\n",
       "      <th>TEUPCB</th>\n",
       "    </tr>\n",
       "    <tr>\n",
       "      <th>factura</th>\n",
       "      <th>tipo</th>\n",
       "      <th></th>\n",
       "      <th></th>\n",
       "      <th></th>\n",
       "      <th></th>\n",
       "      <th></th>\n",
       "      <th></th>\n",
       "      <th></th>\n",
       "    </tr>\n",
       "  </thead>\n",
       "  <tbody>\n",
       "    <tr>\n",
       "      <th>2023-01-25</th>\n",
       "      <th>R</th>\n",
       "      <td>17530.0</td>\n",
       "      <td>53212.64</td>\n",
       "      <td>841.5</td>\n",
       "      <td>10589.28</td>\n",
       "      <td>2.163359</td>\n",
       "      <td>0.042347</td>\n",
       "      <td>0.417798</td>\n",
       "    </tr>\n",
       "  </tbody>\n",
       "</table>\n",
       "</div>"
      ],
      "text/plain": [
       "                 consumo  PCB_PRICE  EDCGASPCB_PRICE  TEUPCB_PRICE       PCB  \\\n",
       "factura    tipo                                                                \n",
       "2023-01-25 R     17530.0   53212.64            841.5      10589.28  2.163359   \n",
       "\n",
       "                 EDCGASPCB    TEUPCB  \n",
       "factura    tipo                       \n",
       "2023-01-25 R      0.042347  0.417798  "
      ]
     },
     "execution_count": 13,
     "metadata": {},
     "output_type": "execute_result"
    }
   ],
   "source": [
    "cc.groupby(['factura','tipo']).sum()"
   ]
  },
  {
   "cell_type": "code",
   "execution_count": 14,
   "metadata": {},
   "outputs": [
    {
     "name": "stderr",
     "output_type": "stream",
     "text": [
      "<ipython-input-14-3d54d8d27882>:1: FutureWarning: The default value of numeric_only in DataFrameGroupBy.sum is deprecated. In a future version, numeric_only will default to False. Either specify numeric_only or select only columns which should be valid for the function.\n",
      "  cc.groupby(['factura','periodo']).sum()\n"
     ]
    },
    {
     "data": {
      "text/html": [
       "<div>\n",
       "<style scoped>\n",
       "    .dataframe tbody tr th:only-of-type {\n",
       "        vertical-align: middle;\n",
       "    }\n",
       "\n",
       "    .dataframe tbody tr th {\n",
       "        vertical-align: top;\n",
       "    }\n",
       "\n",
       "    .dataframe thead th {\n",
       "        text-align: right;\n",
       "    }\n",
       "</style>\n",
       "<table border=\"1\" class=\"dataframe\">\n",
       "  <thead>\n",
       "    <tr style=\"text-align: right;\">\n",
       "      <th></th>\n",
       "      <th></th>\n",
       "      <th>consumo</th>\n",
       "      <th>PCB_PRICE</th>\n",
       "      <th>EDCGASPCB_PRICE</th>\n",
       "      <th>TEUPCB_PRICE</th>\n",
       "      <th>PCB</th>\n",
       "      <th>EDCGASPCB</th>\n",
       "      <th>TEUPCB</th>\n",
       "    </tr>\n",
       "    <tr>\n",
       "      <th>factura</th>\n",
       "      <th>periodo</th>\n",
       "      <th></th>\n",
       "      <th></th>\n",
       "      <th></th>\n",
       "      <th></th>\n",
       "      <th></th>\n",
       "      <th></th>\n",
       "      <th></th>\n",
       "    </tr>\n",
       "  </thead>\n",
       "  <tbody>\n",
       "    <tr>\n",
       "      <th rowspan=\"3\" valign=\"top\">2023-01-25</th>\n",
       "      <th>P1</th>\n",
       "      <td>4281.0</td>\n",
       "      <td>19184.41</td>\n",
       "      <td>296.53</td>\n",
       "      <td>7007.04</td>\n",
       "      <td>0.983830</td>\n",
       "      <td>0.022281</td>\n",
       "      <td>0.312470</td>\n",
       "    </tr>\n",
       "    <tr>\n",
       "      <th>P2</th>\n",
       "      <td>2489.0</td>\n",
       "      <td>12763.79</td>\n",
       "      <td>253.52</td>\n",
       "      <td>2742.72</td>\n",
       "      <td>0.372629</td>\n",
       "      <td>0.009629</td>\n",
       "      <td>0.071111</td>\n",
       "    </tr>\n",
       "    <tr>\n",
       "      <th>P3</th>\n",
       "      <td>10760.0</td>\n",
       "      <td>21264.44</td>\n",
       "      <td>291.45</td>\n",
       "      <td>839.52</td>\n",
       "      <td>0.806899</td>\n",
       "      <td>0.010438</td>\n",
       "      <td>0.034217</td>\n",
       "    </tr>\n",
       "  </tbody>\n",
       "</table>\n",
       "</div>"
      ],
      "text/plain": [
       "                    consumo  PCB_PRICE  EDCGASPCB_PRICE  TEUPCB_PRICE  \\\n",
       "factura    periodo                                                      \n",
       "2023-01-25 P1        4281.0   19184.41           296.53       7007.04   \n",
       "           P2        2489.0   12763.79           253.52       2742.72   \n",
       "           P3       10760.0   21264.44           291.45        839.52   \n",
       "\n",
       "                         PCB  EDCGASPCB    TEUPCB  \n",
       "factura    periodo                                 \n",
       "2023-01-25 P1       0.983830   0.022281  0.312470  \n",
       "           P2       0.372629   0.009629  0.071111  \n",
       "           P3       0.806899   0.010438  0.034217  "
      ]
     },
     "execution_count": 14,
     "metadata": {},
     "output_type": "execute_result"
    }
   ],
   "source": [
    "cc.groupby(['factura','periodo']).sum()"
   ]
  },
  {
   "cell_type": "code",
   "execution_count": 15,
   "metadata": {},
   "outputs": [
    {
     "data": {
      "text/html": [
       "<div>\n",
       "<style scoped>\n",
       "    .dataframe tbody tr th:only-of-type {\n",
       "        vertical-align: middle;\n",
       "    }\n",
       "\n",
       "    .dataframe tbody tr th {\n",
       "        vertical-align: top;\n",
       "    }\n",
       "\n",
       "    .dataframe thead th {\n",
       "        text-align: right;\n",
       "    }\n",
       "</style>\n",
       "<table border=\"1\" class=\"dataframe\">\n",
       "  <thead>\n",
       "    <tr style=\"text-align: right;\">\n",
       "      <th></th>\n",
       "      <th></th>\n",
       "      <th></th>\n",
       "      <th>consumo</th>\n",
       "      <th>PCB_PRICE</th>\n",
       "      <th>EDCGASPCB_PRICE</th>\n",
       "      <th>TEUPCB_PRICE</th>\n",
       "      <th>PCB</th>\n",
       "      <th>EDCGASPCB</th>\n",
       "      <th>TEUPCB</th>\n",
       "    </tr>\n",
       "    <tr>\n",
       "      <th>factura</th>\n",
       "      <th>periodo</th>\n",
       "      <th>tipo</th>\n",
       "      <th></th>\n",
       "      <th></th>\n",
       "      <th></th>\n",
       "      <th></th>\n",
       "      <th></th>\n",
       "      <th></th>\n",
       "      <th></th>\n",
       "    </tr>\n",
       "  </thead>\n",
       "  <tbody>\n",
       "    <tr>\n",
       "      <th rowspan=\"3\" valign=\"top\">2023-01-25</th>\n",
       "      <th>P1</th>\n",
       "      <th>R</th>\n",
       "      <td>4281.0</td>\n",
       "      <td>19184.41</td>\n",
       "      <td>296.53</td>\n",
       "      <td>7007.04</td>\n",
       "      <td>0.983830</td>\n",
       "      <td>0.022281</td>\n",
       "      <td>0.312470</td>\n",
       "    </tr>\n",
       "    <tr>\n",
       "      <th>P2</th>\n",
       "      <th>R</th>\n",
       "      <td>2489.0</td>\n",
       "      <td>12763.79</td>\n",
       "      <td>253.52</td>\n",
       "      <td>2742.72</td>\n",
       "      <td>0.372629</td>\n",
       "      <td>0.009629</td>\n",
       "      <td>0.071111</td>\n",
       "    </tr>\n",
       "    <tr>\n",
       "      <th>P3</th>\n",
       "      <th>R</th>\n",
       "      <td>10760.0</td>\n",
       "      <td>21264.44</td>\n",
       "      <td>291.45</td>\n",
       "      <td>839.52</td>\n",
       "      <td>0.806899</td>\n",
       "      <td>0.010438</td>\n",
       "      <td>0.034217</td>\n",
       "    </tr>\n",
       "  </tbody>\n",
       "</table>\n",
       "</div>"
      ],
      "text/plain": [
       "                         consumo  PCB_PRICE  EDCGASPCB_PRICE  TEUPCB_PRICE  \\\n",
       "factura    periodo tipo                                                      \n",
       "2023-01-25 P1      R      4281.0   19184.41           296.53       7007.04   \n",
       "           P2      R      2489.0   12763.79           253.52       2742.72   \n",
       "           P3      R     10760.0   21264.44           291.45        839.52   \n",
       "\n",
       "                              PCB  EDCGASPCB    TEUPCB  \n",
       "factura    periodo tipo                                 \n",
       "2023-01-25 P1      R     0.983830   0.022281  0.312470  \n",
       "           P2      R     0.372629   0.009629  0.071111  \n",
       "           P3      R     0.806899   0.010438  0.034217  "
      ]
     },
     "execution_count": 15,
     "metadata": {},
     "output_type": "execute_result"
    }
   ],
   "source": [
    "cc.groupby(['factura','periodo','tipo']).sum()"
   ]
  },
  {
   "cell_type": "code",
   "execution_count": 16,
   "metadata": {},
   "outputs": [
    {
     "name": "stderr",
     "output_type": "stream",
     "text": [
      "<ipython-input-16-f9d6a7d50a59>:1: FutureWarning: The default value of numeric_only in DataFrameGroupBy.sum is deprecated. In a future version, numeric_only will default to False. Either specify numeric_only or select only columns which should be valid for the function.\n",
      "  sns.barplot(data=cc.groupby(['factura','periodo']).sum().reset_index(),x='factura',y='consumo',hue='periodo')\n"
     ]
    },
    {
     "data": {
      "text/plain": [
       "<AxesSubplot:xlabel='factura', ylabel='consumo'>"
      ]
     },
     "execution_count": 16,
     "metadata": {},
     "output_type": "execute_result"
    },
    {
     "data": {
      "image/png": "[encoded data removed]",
      "text/plain": [
       "<Figure size 432x288 with 1 Axes>"
      ]
     },
     "metadata": {
      "needs_background": "light"
     },
     "output_type": "display_data"
    }
   ],
   "source": [
    "sns.barplot(data=cc.groupby(['factura','periodo']).sum().reset_index(),x='factura',y='consumo',hue='periodo')"
   ]
  }
 ],
 "metadata": {
  "kernelspec": {
   "display_name": "venv",
   "language": "python",
   "name": "python3"
  },
  "language_info": {
   "codemirror_mode": {
    "name": "ipython",
    "version": 3
   },
   "file_extension": ".py",
   "mimetype": "text/x-python",
   "name": "python",
   "nbconvert_exporter": "python",
   "pygments_lexer": "ipython3",
   "version": "3.8.5"
  },
  "orig_nbformat": 4,
  "vscode": {
   "interpreter": {
    "hash": "48c12402683cdc41122f26348aafc0a6248f4a45be055a22318b9c67bb451a6f"
   }
  }
 },
 "nbformat": 4,
 "nbformat_minor": 2
}
