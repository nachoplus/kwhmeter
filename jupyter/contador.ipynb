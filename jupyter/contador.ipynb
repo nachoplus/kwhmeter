{
 "cells": [
  {
   "attachments": {},
   "cell_type": "markdown",
   "metadata": {},
   "source": [
    "## Pruebas del modulo de acceso a los datos de contador"
   ]
  },
  {
   "cell_type": "code",
   "execution_count": 1,
   "metadata": {},
   "outputs": [],
   "source": [
    "import pandas as pd\n",
    "from kwhmeter import suministro,contador, timezone, append_prices, read_config\n",
    "from datetime import datetime, timedelta\n",
    "import seaborn as sns\n"
   ]
  },
  {
   "cell_type": "code",
   "execution_count": 2,
   "metadata": {},
   "outputs": [
    {
     "name": "stdout",
     "output_type": "stream",
     "text": [
      "Existen 7 facturas. Desde: 2022-06-15 00:00:00+02:00 hasta:2022-12-24 00:00:00+01:00\n"
     ]
    }
   ],
   "source": [
    "credenciales=read_config()\n",
    "connection = contador(**credenciales['alarcon'])\n",
    "#connection = contador(iberdrola,user,password)  #equivalente\n",
    "#connection = suministro('alarcon')  #equivalente"
   ]
  },
  {
   "cell_type": "code",
   "execution_count": 3,
   "metadata": {},
   "outputs": [
    {
     "name": "stdout",
     "output_type": "stream",
     "text": [
      "Recuperando datos desde: 2022-11-16 00:00:00+01:00 hasta:2022-12-16 00:00:00+01:00\n"
     ]
    }
   ],
   "source": [
    "\n",
    "to_day = timezone.localize(datetime(2022,12,16)-timedelta(days=0))\n",
    "from_day=to_day-timedelta(days=30)\n",
    "\n",
    "print(f'Recuperando datos desde: {from_day} hasta:{to_day}')\n"
   ]
  },
  {
   "cell_type": "markdown",
   "metadata": {},
   "source": []
  },
  {
   "cell_type": "code",
   "execution_count": 4,
   "metadata": {},
   "outputs": [
    {
     "data": {
      "text/html": [
       "<div>\n",
       "<style scoped>\n",
       "    .dataframe tbody tr th:only-of-type {\n",
       "        vertical-align: middle;\n",
       "    }\n",
       "\n",
       "    .dataframe tbody tr th {\n",
       "        vertical-align: top;\n",
       "    }\n",
       "\n",
       "    .dataframe thead th {\n",
       "        text-align: right;\n",
       "    }\n",
       "</style>\n",
       "<table border=\"1\" class=\"dataframe\">\n",
       "  <thead>\n",
       "    <tr style=\"text-align: right;\">\n",
       "      <th></th>\n",
       "      <th>fechaInicio</th>\n",
       "      <th>fechaFin</th>\n",
       "    </tr>\n",
       "    <tr>\n",
       "      <th>factura</th>\n",
       "      <th></th>\n",
       "      <th></th>\n",
       "    </tr>\n",
       "  </thead>\n",
       "  <tbody>\n",
       "    <tr>\n",
       "      <th>2022-12-25</th>\n",
       "      <td>2022-11-25 00:00:00+01:00</td>\n",
       "      <td>2022-12-24 00:00:00+01:00</td>\n",
       "    </tr>\n",
       "    <tr>\n",
       "      <th>2022-11-25</th>\n",
       "      <td>2022-10-25 00:00:00+02:00</td>\n",
       "      <td>2022-11-24 00:00:00+01:00</td>\n",
       "    </tr>\n",
       "    <tr>\n",
       "      <th>2022-10-25</th>\n",
       "      <td>2022-09-25 00:00:00+02:00</td>\n",
       "      <td>2022-10-24 00:00:00+02:00</td>\n",
       "    </tr>\n",
       "    <tr>\n",
       "      <th>2022-09-25</th>\n",
       "      <td>2022-08-25 00:00:00+02:00</td>\n",
       "      <td>2022-09-24 00:00:00+02:00</td>\n",
       "    </tr>\n",
       "    <tr>\n",
       "      <th>2022-08-25</th>\n",
       "      <td>2022-07-25 00:00:00+02:00</td>\n",
       "      <td>2022-08-24 00:00:00+02:00</td>\n",
       "    </tr>\n",
       "    <tr>\n",
       "      <th>2022-07-25</th>\n",
       "      <td>2022-06-25 00:00:00+02:00</td>\n",
       "      <td>2022-07-24 00:00:00+02:00</td>\n",
       "    </tr>\n",
       "    <tr>\n",
       "      <th>2022-06-25</th>\n",
       "      <td>2022-06-15 00:00:00+02:00</td>\n",
       "      <td>2022-06-24 00:00:00+02:00</td>\n",
       "    </tr>\n",
       "  </tbody>\n",
       "</table>\n",
       "</div>"
      ],
      "text/plain": [
       "                         fechaInicio                  fechaFin\n",
       "factura                                                       \n",
       "2022-12-25 2022-11-25 00:00:00+01:00 2022-12-24 00:00:00+01:00\n",
       "2022-11-25 2022-10-25 00:00:00+02:00 2022-11-24 00:00:00+01:00\n",
       "2022-10-25 2022-09-25 00:00:00+02:00 2022-10-24 00:00:00+02:00\n",
       "2022-09-25 2022-08-25 00:00:00+02:00 2022-09-24 00:00:00+02:00\n",
       "2022-08-25 2022-07-25 00:00:00+02:00 2022-08-24 00:00:00+02:00\n",
       "2022-07-25 2022-06-25 00:00:00+02:00 2022-07-24 00:00:00+02:00\n",
       "2022-06-25 2022-06-15 00:00:00+02:00 2022-06-24 00:00:00+02:00"
      ]
     },
     "execution_count": 4,
     "metadata": {},
     "output_type": "execute_result"
    }
   ],
   "source": [
    "facturas=connection.facturas()\n",
    "facturas"
   ]
  },
  {
   "cell_type": "code",
   "execution_count": 5,
   "metadata": {},
   "outputs": [
    {
     "name": "stderr",
     "output_type": "stream",
     "text": [
      "INFO:root:recovering missing dates:0\n"
     ]
    }
   ],
   "source": [
    "cc=connection.consumo(from_day,to_day)\n",
    "#cc=connection.consumo_facturado(['2022-11-25'])\n",
    "cc=append_prices(cc)\n"
   ]
  },
  {
   "cell_type": "code",
   "execution_count": 6,
   "metadata": {},
   "outputs": [
    {
     "data": {
      "text/html": [
       "<div>\n",
       "<style scoped>\n",
       "    .dataframe tbody tr th:only-of-type {\n",
       "        vertical-align: middle;\n",
       "    }\n",
       "\n",
       "    .dataframe tbody tr th {\n",
       "        vertical-align: top;\n",
       "    }\n",
       "\n",
       "    .dataframe thead th {\n",
       "        text-align: right;\n",
       "    }\n",
       "</style>\n",
       "<table border=\"1\" class=\"dataframe\">\n",
       "  <thead>\n",
       "    <tr style=\"text-align: right;\">\n",
       "      <th></th>\n",
       "      <th>consumo</th>\n",
       "      <th>tipo</th>\n",
       "      <th>periodo</th>\n",
       "      <th>factura</th>\n",
       "      <th>PCB_PRICE</th>\n",
       "      <th>EDCGASPCB_PRICE</th>\n",
       "      <th>TEUPCB_PRICE</th>\n",
       "      <th>PCB</th>\n",
       "      <th>EDCGASPCB</th>\n",
       "      <th>TEUPCB</th>\n",
       "    </tr>\n",
       "    <tr>\n",
       "      <th>fecha</th>\n",
       "      <th></th>\n",
       "      <th></th>\n",
       "      <th></th>\n",
       "      <th></th>\n",
       "      <th></th>\n",
       "      <th></th>\n",
       "      <th></th>\n",
       "      <th></th>\n",
       "      <th></th>\n",
       "      <th></th>\n",
       "    </tr>\n",
       "  </thead>\n",
       "  <tbody>\n",
       "    <tr>\n",
       "      <th>2022-11-16 01:00:00+01:00</th>\n",
       "      <td>0.0</td>\n",
       "      <td>R</td>\n",
       "      <td>P3</td>\n",
       "      <td>2022-11-25</td>\n",
       "      <td>131.66</td>\n",
       "      <td>3.56</td>\n",
       "      <td>3.03</td>\n",
       "      <td>0.0</td>\n",
       "      <td>0.0</td>\n",
       "      <td>0.0</td>\n",
       "    </tr>\n",
       "    <tr>\n",
       "      <th>2022-11-16 02:00:00+01:00</th>\n",
       "      <td>0.0</td>\n",
       "      <td>R</td>\n",
       "      <td>P3</td>\n",
       "      <td>2022-11-25</td>\n",
       "      <td>129.61</td>\n",
       "      <td>3.96</td>\n",
       "      <td>3.03</td>\n",
       "      <td>0.0</td>\n",
       "      <td>0.0</td>\n",
       "      <td>0.0</td>\n",
       "    </tr>\n",
       "    <tr>\n",
       "      <th>2022-11-16 03:00:00+01:00</th>\n",
       "      <td>0.0</td>\n",
       "      <td>R</td>\n",
       "      <td>P3</td>\n",
       "      <td>2022-11-25</td>\n",
       "      <td>127.23</td>\n",
       "      <td>3.04</td>\n",
       "      <td>3.03</td>\n",
       "      <td>0.0</td>\n",
       "      <td>0.0</td>\n",
       "      <td>0.0</td>\n",
       "    </tr>\n",
       "    <tr>\n",
       "      <th>2022-11-16 04:00:00+01:00</th>\n",
       "      <td>0.0</td>\n",
       "      <td>R</td>\n",
       "      <td>P3</td>\n",
       "      <td>2022-11-25</td>\n",
       "      <td>128.41</td>\n",
       "      <td>4.15</td>\n",
       "      <td>3.03</td>\n",
       "      <td>0.0</td>\n",
       "      <td>0.0</td>\n",
       "      <td>0.0</td>\n",
       "    </tr>\n",
       "    <tr>\n",
       "      <th>2022-11-16 05:00:00+01:00</th>\n",
       "      <td>0.0</td>\n",
       "      <td>R</td>\n",
       "      <td>P3</td>\n",
       "      <td>2022-11-25</td>\n",
       "      <td>131.03</td>\n",
       "      <td>5.00</td>\n",
       "      <td>3.03</td>\n",
       "      <td>0.0</td>\n",
       "      <td>0.0</td>\n",
       "      <td>0.0</td>\n",
       "    </tr>\n",
       "    <tr>\n",
       "      <th>...</th>\n",
       "      <td>...</td>\n",
       "      <td>...</td>\n",
       "      <td>...</td>\n",
       "      <td>...</td>\n",
       "      <td>...</td>\n",
       "      <td>...</td>\n",
       "      <td>...</td>\n",
       "      <td>...</td>\n",
       "      <td>...</td>\n",
       "      <td>...</td>\n",
       "    </tr>\n",
       "    <tr>\n",
       "      <th>2022-12-15 20:00:00+01:00</th>\n",
       "      <td>0.0</td>\n",
       "      <td>R</td>\n",
       "      <td>P1</td>\n",
       "      <td>2022-12-25</td>\n",
       "      <td>377.89</td>\n",
       "      <td>58.69</td>\n",
       "      <td>74.41</td>\n",
       "      <td>0.0</td>\n",
       "      <td>0.0</td>\n",
       "      <td>0.0</td>\n",
       "    </tr>\n",
       "    <tr>\n",
       "      <th>2022-12-15 21:00:00+01:00</th>\n",
       "      <td>0.0</td>\n",
       "      <td>R</td>\n",
       "      <td>P1</td>\n",
       "      <td>2022-12-25</td>\n",
       "      <td>367.97</td>\n",
       "      <td>59.52</td>\n",
       "      <td>74.41</td>\n",
       "      <td>0.0</td>\n",
       "      <td>0.0</td>\n",
       "      <td>0.0</td>\n",
       "    </tr>\n",
       "    <tr>\n",
       "      <th>2022-12-15 22:00:00+01:00</th>\n",
       "      <td>0.0</td>\n",
       "      <td>R</td>\n",
       "      <td>P1</td>\n",
       "      <td>2022-12-25</td>\n",
       "      <td>327.83</td>\n",
       "      <td>61.77</td>\n",
       "      <td>74.41</td>\n",
       "      <td>0.0</td>\n",
       "      <td>0.0</td>\n",
       "      <td>0.0</td>\n",
       "    </tr>\n",
       "    <tr>\n",
       "      <th>2022-12-15 23:00:00+01:00</th>\n",
       "      <td>0.0</td>\n",
       "      <td>R</td>\n",
       "      <td>P2</td>\n",
       "      <td>2022-12-25</td>\n",
       "      <td>261.16</td>\n",
       "      <td>62.05</td>\n",
       "      <td>28.47</td>\n",
       "      <td>0.0</td>\n",
       "      <td>0.0</td>\n",
       "      <td>0.0</td>\n",
       "    </tr>\n",
       "    <tr>\n",
       "      <th>2022-12-16 00:00:00+01:00</th>\n",
       "      <td>0.0</td>\n",
       "      <td>R</td>\n",
       "      <td>P2</td>\n",
       "      <td>2022-12-25</td>\n",
       "      <td>250.78</td>\n",
       "      <td>52.32</td>\n",
       "      <td>28.47</td>\n",
       "      <td>0.0</td>\n",
       "      <td>0.0</td>\n",
       "      <td>0.0</td>\n",
       "    </tr>\n",
       "  </tbody>\n",
       "</table>\n",
       "<p>720 rows × 10 columns</p>\n",
       "</div>"
      ],
      "text/plain": [
       "                           consumo tipo periodo     factura  PCB_PRICE  \\\n",
       "fecha                                                                    \n",
       "2022-11-16 01:00:00+01:00      0.0    R      P3  2022-11-25     131.66   \n",
       "2022-11-16 02:00:00+01:00      0.0    R      P3  2022-11-25     129.61   \n",
       "2022-11-16 03:00:00+01:00      0.0    R      P3  2022-11-25     127.23   \n",
       "2022-11-16 04:00:00+01:00      0.0    R      P3  2022-11-25     128.41   \n",
       "2022-11-16 05:00:00+01:00      0.0    R      P3  2022-11-25     131.03   \n",
       "...                            ...  ...     ...         ...        ...   \n",
       "2022-12-15 20:00:00+01:00      0.0    R      P1  2022-12-25     377.89   \n",
       "2022-12-15 21:00:00+01:00      0.0    R      P1  2022-12-25     367.97   \n",
       "2022-12-15 22:00:00+01:00      0.0    R      P1  2022-12-25     327.83   \n",
       "2022-12-15 23:00:00+01:00      0.0    R      P2  2022-12-25     261.16   \n",
       "2022-12-16 00:00:00+01:00      0.0    R      P2  2022-12-25     250.78   \n",
       "\n",
       "                           EDCGASPCB_PRICE  TEUPCB_PRICE  PCB  EDCGASPCB  \\\n",
       "fecha                                                                      \n",
       "2022-11-16 01:00:00+01:00             3.56          3.03  0.0        0.0   \n",
       "2022-11-16 02:00:00+01:00             3.96          3.03  0.0        0.0   \n",
       "2022-11-16 03:00:00+01:00             3.04          3.03  0.0        0.0   \n",
       "2022-11-16 04:00:00+01:00             4.15          3.03  0.0        0.0   \n",
       "2022-11-16 05:00:00+01:00             5.00          3.03  0.0        0.0   \n",
       "...                                    ...           ...  ...        ...   \n",
       "2022-12-15 20:00:00+01:00            58.69         74.41  0.0        0.0   \n",
       "2022-12-15 21:00:00+01:00            59.52         74.41  0.0        0.0   \n",
       "2022-12-15 22:00:00+01:00            61.77         74.41  0.0        0.0   \n",
       "2022-12-15 23:00:00+01:00            62.05         28.47  0.0        0.0   \n",
       "2022-12-16 00:00:00+01:00            52.32         28.47  0.0        0.0   \n",
       "\n",
       "                           TEUPCB  \n",
       "fecha                              \n",
       "2022-11-16 01:00:00+01:00     0.0  \n",
       "2022-11-16 02:00:00+01:00     0.0  \n",
       "2022-11-16 03:00:00+01:00     0.0  \n",
       "2022-11-16 04:00:00+01:00     0.0  \n",
       "2022-11-16 05:00:00+01:00     0.0  \n",
       "...                           ...  \n",
       "2022-12-15 20:00:00+01:00     0.0  \n",
       "2022-12-15 21:00:00+01:00     0.0  \n",
       "2022-12-15 22:00:00+01:00     0.0  \n",
       "2022-12-15 23:00:00+01:00     0.0  \n",
       "2022-12-16 00:00:00+01:00     0.0  \n",
       "\n",
       "[720 rows x 10 columns]"
      ]
     },
     "execution_count": 6,
     "metadata": {},
     "output_type": "execute_result"
    }
   ],
   "source": [
    "cc"
   ]
  },
  {
   "cell_type": "code",
   "execution_count": 7,
   "metadata": {},
   "outputs": [
    {
     "data": {
      "text/plain": [
       "<AxesSubplot:xlabel='fecha'>"
      ]
     },
     "execution_count": 7,
     "metadata": {},
     "output_type": "execute_result"
    },
    {
     "data": {
      "image/png": "[encoded data removed]",
      "text/plain": [
       "<Figure size 432x288 with 1 Axes>"
      ]
     },
     "metadata": {
      "needs_background": "light"
     },
     "output_type": "display_data"
    }
   ],
   "source": [
    "cc.plot()"
   ]
  },
  {
   "cell_type": "code",
   "execution_count": 8,
   "metadata": {},
   "outputs": [],
   "source": [
    "cc.to_csv('consumos.csv',decimal=',')\n"
   ]
  },
  {
   "cell_type": "code",
   "execution_count": 9,
   "metadata": {},
   "outputs": [
    {
     "data": {
      "text/html": [
       "<div>\n",
       "<style scoped>\n",
       "    .dataframe tbody tr th:only-of-type {\n",
       "        vertical-align: middle;\n",
       "    }\n",
       "\n",
       "    .dataframe tbody tr th {\n",
       "        vertical-align: top;\n",
       "    }\n",
       "\n",
       "    .dataframe thead th {\n",
       "        text-align: right;\n",
       "    }\n",
       "</style>\n",
       "<table border=\"1\" class=\"dataframe\">\n",
       "  <thead>\n",
       "    <tr style=\"text-align: right;\">\n",
       "      <th></th>\n",
       "      <th>consumo</th>\n",
       "      <th>PCB</th>\n",
       "      <th>EDCGASPCB</th>\n",
       "      <th>TEUPCB</th>\n",
       "    </tr>\n",
       "    <tr>\n",
       "      <th>factura</th>\n",
       "      <th></th>\n",
       "      <th></th>\n",
       "      <th></th>\n",
       "      <th></th>\n",
       "    </tr>\n",
       "  </thead>\n",
       "  <tbody>\n",
       "    <tr>\n",
       "      <th>2022-11-25</th>\n",
       "      <td>12818.0</td>\n",
       "      <td>2.219168</td>\n",
       "      <td>-0.07133</td>\n",
       "      <td>0.608379</td>\n",
       "    </tr>\n",
       "    <tr>\n",
       "      <th>2022-12-25</th>\n",
       "      <td>11515.0</td>\n",
       "      <td>3.121651</td>\n",
       "      <td>0.47470</td>\n",
       "      <td>0.628877</td>\n",
       "    </tr>\n",
       "  </tbody>\n",
       "</table>\n",
       "</div>"
      ],
      "text/plain": [
       "            consumo       PCB  EDCGASPCB    TEUPCB\n",
       "factura                                           \n",
       "2022-11-25  12818.0  2.219168   -0.07133  0.608379\n",
       "2022-12-25  11515.0  3.121651    0.47470  0.628877"
      ]
     },
     "execution_count": 9,
     "metadata": {},
     "output_type": "execute_result"
    }
   ],
   "source": [
    "totales=cc.groupby(['factura'])[['consumo','PCB','EDCGASPCB','TEUPCB']].sum()\n",
    "totales"
   ]
  },
  {
   "cell_type": "code",
   "execution_count": 10,
   "metadata": {},
   "outputs": [
    {
     "data": {
      "text/plain": [
       "0.0"
      ]
     },
     "execution_count": 10,
     "metadata": {},
     "output_type": "execute_result"
    }
   ],
   "source": [
    "cc['2022-08-25':'2022-09-30']['consumo'].sum()+cc['2022-10-01':'2022-10-24']['consumo'].sum()"
   ]
  },
  {
   "cell_type": "code",
   "execution_count": 11,
   "metadata": {},
   "outputs": [
    {
     "name": "stderr",
     "output_type": "stream",
     "text": [
      "<ipython-input-11-4a6b15d68e66>:1: FutureWarning: The default value of numeric_only in DataFrameGroupBy.sum is deprecated. In a future version, numeric_only will default to False. Either specify numeric_only or select only columns which should be valid for the function.\n",
      "  cc.groupby(['factura','tipo']).sum()\n"
     ]
    },
    {
     "data": {
      "text/html": [
       "<div>\n",
       "<style scoped>\n",
       "    .dataframe tbody tr th:only-of-type {\n",
       "        vertical-align: middle;\n",
       "    }\n",
       "\n",
       "    .dataframe tbody tr th {\n",
       "        vertical-align: top;\n",
       "    }\n",
       "\n",
       "    .dataframe thead th {\n",
       "        text-align: right;\n",
       "    }\n",
       "</style>\n",
       "<table border=\"1\" class=\"dataframe\">\n",
       "  <thead>\n",
       "    <tr style=\"text-align: right;\">\n",
       "      <th></th>\n",
       "      <th></th>\n",
       "      <th>consumo</th>\n",
       "      <th>PCB_PRICE</th>\n",
       "      <th>EDCGASPCB_PRICE</th>\n",
       "      <th>TEUPCB_PRICE</th>\n",
       "      <th>PCB</th>\n",
       "      <th>EDCGASPCB</th>\n",
       "      <th>TEUPCB</th>\n",
       "    </tr>\n",
       "    <tr>\n",
       "      <th>factura</th>\n",
       "      <th>tipo</th>\n",
       "      <th></th>\n",
       "      <th></th>\n",
       "      <th></th>\n",
       "      <th></th>\n",
       "      <th></th>\n",
       "      <th></th>\n",
       "      <th></th>\n",
       "    </tr>\n",
       "  </thead>\n",
       "  <tbody>\n",
       "    <tr>\n",
       "      <th>2022-11-25</th>\n",
       "      <th>R</th>\n",
       "      <td>12818.0</td>\n",
       "      <td>27872.77</td>\n",
       "      <td>-1043.65</td>\n",
       "      <td>5229.12</td>\n",
       "      <td>2.219168</td>\n",
       "      <td>-0.07133</td>\n",
       "      <td>0.608379</td>\n",
       "    </tr>\n",
       "    <tr>\n",
       "      <th>2022-12-25</th>\n",
       "      <th>R</th>\n",
       "      <td>11515.0</td>\n",
       "      <td>134758.85</td>\n",
       "      <td>33446.10</td>\n",
       "      <td>11624.87</td>\n",
       "      <td>3.121651</td>\n",
       "      <td>0.47470</td>\n",
       "      <td>0.628877</td>\n",
       "    </tr>\n",
       "  </tbody>\n",
       "</table>\n",
       "</div>"
      ],
      "text/plain": [
       "                 consumo  PCB_PRICE  EDCGASPCB_PRICE  TEUPCB_PRICE       PCB  \\\n",
       "factura    tipo                                                                \n",
       "2022-11-25 R     12818.0   27872.77         -1043.65       5229.12  2.219168   \n",
       "2022-12-25 R     11515.0  134758.85         33446.10      11624.87  3.121651   \n",
       "\n",
       "                 EDCGASPCB    TEUPCB  \n",
       "factura    tipo                       \n",
       "2022-11-25 R      -0.07133  0.608379  \n",
       "2022-12-25 R       0.47470  0.628877  "
      ]
     },
     "execution_count": 11,
     "metadata": {},
     "output_type": "execute_result"
    }
   ],
   "source": [
    "cc.groupby(['factura','tipo']).sum()"
   ]
  },
  {
   "cell_type": "code",
   "execution_count": 12,
   "metadata": {},
   "outputs": [
    {
     "name": "stderr",
     "output_type": "stream",
     "text": [
      "<ipython-input-12-3d54d8d27882>:1: FutureWarning: The default value of numeric_only in DataFrameGroupBy.sum is deprecated. In a future version, numeric_only will default to False. Either specify numeric_only or select only columns which should be valid for the function.\n",
      "  cc.groupby(['factura','periodo']).sum()\n"
     ]
    },
    {
     "data": {
      "text/html": [
       "<div>\n",
       "<style scoped>\n",
       "    .dataframe tbody tr th:only-of-type {\n",
       "        vertical-align: middle;\n",
       "    }\n",
       "\n",
       "    .dataframe tbody tr th {\n",
       "        vertical-align: top;\n",
       "    }\n",
       "\n",
       "    .dataframe thead th {\n",
       "        text-align: right;\n",
       "    }\n",
       "</style>\n",
       "<table border=\"1\" class=\"dataframe\">\n",
       "  <thead>\n",
       "    <tr style=\"text-align: right;\">\n",
       "      <th></th>\n",
       "      <th></th>\n",
       "      <th>consumo</th>\n",
       "      <th>PCB_PRICE</th>\n",
       "      <th>EDCGASPCB_PRICE</th>\n",
       "      <th>TEUPCB_PRICE</th>\n",
       "      <th>PCB</th>\n",
       "      <th>EDCGASPCB</th>\n",
       "      <th>TEUPCB</th>\n",
       "    </tr>\n",
       "    <tr>\n",
       "      <th>factura</th>\n",
       "      <th>periodo</th>\n",
       "      <th></th>\n",
       "      <th></th>\n",
       "      <th></th>\n",
       "      <th></th>\n",
       "      <th></th>\n",
       "      <th></th>\n",
       "      <th></th>\n",
       "    </tr>\n",
       "  </thead>\n",
       "  <tbody>\n",
       "    <tr>\n",
       "      <th rowspan=\"3\" valign=\"top\">2022-11-25</th>\n",
       "      <th>P1</th>\n",
       "      <td>6326.0</td>\n",
       "      <td>10173.24</td>\n",
       "      <td>-145.56</td>\n",
       "      <td>3571.68</td>\n",
       "      <td>1.305188</td>\n",
       "      <td>-0.023853</td>\n",
       "      <td>0.470718</td>\n",
       "    </tr>\n",
       "    <tr>\n",
       "      <th>P2</th>\n",
       "      <td>4638.0</td>\n",
       "      <td>7587.56</td>\n",
       "      <td>-196.01</td>\n",
       "      <td>1366.56</td>\n",
       "      <td>0.675111</td>\n",
       "      <td>-0.031926</td>\n",
       "      <td>0.132044</td>\n",
       "    </tr>\n",
       "    <tr>\n",
       "      <th>P3</th>\n",
       "      <td>1854.0</td>\n",
       "      <td>10111.97</td>\n",
       "      <td>-702.08</td>\n",
       "      <td>290.88</td>\n",
       "      <td>0.238869</td>\n",
       "      <td>-0.015551</td>\n",
       "      <td>0.005618</td>\n",
       "    </tr>\n",
       "    <tr>\n",
       "      <th rowspan=\"3\" valign=\"top\">2022-12-25</th>\n",
       "      <th>P1</th>\n",
       "      <td>6553.0</td>\n",
       "      <td>33325.79</td>\n",
       "      <td>5445.21</td>\n",
       "      <td>7738.64</td>\n",
       "      <td>1.893907</td>\n",
       "      <td>0.247295</td>\n",
       "      <td>0.487609</td>\n",
       "    </tr>\n",
       "    <tr>\n",
       "      <th>P2</th>\n",
       "      <td>4962.0</td>\n",
       "      <td>27490.36</td>\n",
       "      <td>5685.41</td>\n",
       "      <td>2989.35</td>\n",
       "      <td>1.227744</td>\n",
       "      <td>0.227406</td>\n",
       "      <td>0.141268</td>\n",
       "    </tr>\n",
       "    <tr>\n",
       "      <th>P3</th>\n",
       "      <td>0.0</td>\n",
       "      <td>73942.70</td>\n",
       "      <td>22315.48</td>\n",
       "      <td>896.88</td>\n",
       "      <td>0.000000</td>\n",
       "      <td>0.000000</td>\n",
       "      <td>0.000000</td>\n",
       "    </tr>\n",
       "  </tbody>\n",
       "</table>\n",
       "</div>"
      ],
      "text/plain": [
       "                    consumo  PCB_PRICE  EDCGASPCB_PRICE  TEUPCB_PRICE  \\\n",
       "factura    periodo                                                      \n",
       "2022-11-25 P1        6326.0   10173.24          -145.56       3571.68   \n",
       "           P2        4638.0    7587.56          -196.01       1366.56   \n",
       "           P3        1854.0   10111.97          -702.08        290.88   \n",
       "2022-12-25 P1        6553.0   33325.79          5445.21       7738.64   \n",
       "           P2        4962.0   27490.36          5685.41       2989.35   \n",
       "           P3           0.0   73942.70         22315.48        896.88   \n",
       "\n",
       "                         PCB  EDCGASPCB    TEUPCB  \n",
       "factura    periodo                                 \n",
       "2022-11-25 P1       1.305188  -0.023853  0.470718  \n",
       "           P2       0.675111  -0.031926  0.132044  \n",
       "           P3       0.238869  -0.015551  0.005618  \n",
       "2022-12-25 P1       1.893907   0.247295  0.487609  \n",
       "           P2       1.227744   0.227406  0.141268  \n",
       "           P3       0.000000   0.000000  0.000000  "
      ]
     },
     "execution_count": 12,
     "metadata": {},
     "output_type": "execute_result"
    }
   ],
   "source": [
    "cc.groupby(['factura','periodo']).sum()"
   ]
  },
  {
   "cell_type": "code",
   "execution_count": 13,
   "metadata": {},
   "outputs": [
    {
     "data": {
      "text/html": [
       "<div>\n",
       "<style scoped>\n",
       "    .dataframe tbody tr th:only-of-type {\n",
       "        vertical-align: middle;\n",
       "    }\n",
       "\n",
       "    .dataframe tbody tr th {\n",
       "        vertical-align: top;\n",
       "    }\n",
       "\n",
       "    .dataframe thead th {\n",
       "        text-align: right;\n",
       "    }\n",
       "</style>\n",
       "<table border=\"1\" class=\"dataframe\">\n",
       "  <thead>\n",
       "    <tr style=\"text-align: right;\">\n",
       "      <th></th>\n",
       "      <th></th>\n",
       "      <th></th>\n",
       "      <th>consumo</th>\n",
       "      <th>PCB_PRICE</th>\n",
       "      <th>EDCGASPCB_PRICE</th>\n",
       "      <th>TEUPCB_PRICE</th>\n",
       "      <th>PCB</th>\n",
       "      <th>EDCGASPCB</th>\n",
       "      <th>TEUPCB</th>\n",
       "    </tr>\n",
       "    <tr>\n",
       "      <th>factura</th>\n",
       "      <th>periodo</th>\n",
       "      <th>tipo</th>\n",
       "      <th></th>\n",
       "      <th></th>\n",
       "      <th></th>\n",
       "      <th></th>\n",
       "      <th></th>\n",
       "      <th></th>\n",
       "      <th></th>\n",
       "    </tr>\n",
       "  </thead>\n",
       "  <tbody>\n",
       "    <tr>\n",
       "      <th rowspan=\"3\" valign=\"top\">2022-11-25</th>\n",
       "      <th>P1</th>\n",
       "      <th>R</th>\n",
       "      <td>6326.0</td>\n",
       "      <td>10173.24</td>\n",
       "      <td>-145.56</td>\n",
       "      <td>3571.68</td>\n",
       "      <td>1.305188</td>\n",
       "      <td>-0.023853</td>\n",
       "      <td>0.470718</td>\n",
       "    </tr>\n",
       "    <tr>\n",
       "      <th>P2</th>\n",
       "      <th>R</th>\n",
       "      <td>4638.0</td>\n",
       "      <td>7587.56</td>\n",
       "      <td>-196.01</td>\n",
       "      <td>1366.56</td>\n",
       "      <td>0.675111</td>\n",
       "      <td>-0.031926</td>\n",
       "      <td>0.132044</td>\n",
       "    </tr>\n",
       "    <tr>\n",
       "      <th>P3</th>\n",
       "      <th>R</th>\n",
       "      <td>1854.0</td>\n",
       "      <td>10111.97</td>\n",
       "      <td>-702.08</td>\n",
       "      <td>290.88</td>\n",
       "      <td>0.238869</td>\n",
       "      <td>-0.015551</td>\n",
       "      <td>0.005618</td>\n",
       "    </tr>\n",
       "    <tr>\n",
       "      <th rowspan=\"3\" valign=\"top\">2022-12-25</th>\n",
       "      <th>P1</th>\n",
       "      <th>R</th>\n",
       "      <td>6553.0</td>\n",
       "      <td>33325.79</td>\n",
       "      <td>5445.21</td>\n",
       "      <td>7738.64</td>\n",
       "      <td>1.893907</td>\n",
       "      <td>0.247295</td>\n",
       "      <td>0.487609</td>\n",
       "    </tr>\n",
       "    <tr>\n",
       "      <th>P2</th>\n",
       "      <th>R</th>\n",
       "      <td>4962.0</td>\n",
       "      <td>27490.36</td>\n",
       "      <td>5685.41</td>\n",
       "      <td>2989.35</td>\n",
       "      <td>1.227744</td>\n",
       "      <td>0.227406</td>\n",
       "      <td>0.141268</td>\n",
       "    </tr>\n",
       "    <tr>\n",
       "      <th>P3</th>\n",
       "      <th>R</th>\n",
       "      <td>0.0</td>\n",
       "      <td>73942.70</td>\n",
       "      <td>22315.48</td>\n",
       "      <td>896.88</td>\n",
       "      <td>0.000000</td>\n",
       "      <td>0.000000</td>\n",
       "      <td>0.000000</td>\n",
       "    </tr>\n",
       "  </tbody>\n",
       "</table>\n",
       "</div>"
      ],
      "text/plain": [
       "                         consumo  PCB_PRICE  EDCGASPCB_PRICE  TEUPCB_PRICE  \\\n",
       "factura    periodo tipo                                                      \n",
       "2022-11-25 P1      R      6326.0   10173.24          -145.56       3571.68   \n",
       "           P2      R      4638.0    7587.56          -196.01       1366.56   \n",
       "           P3      R      1854.0   10111.97          -702.08        290.88   \n",
       "2022-12-25 P1      R      6553.0   33325.79          5445.21       7738.64   \n",
       "           P2      R      4962.0   27490.36          5685.41       2989.35   \n",
       "           P3      R         0.0   73942.70         22315.48        896.88   \n",
       "\n",
       "                              PCB  EDCGASPCB    TEUPCB  \n",
       "factura    periodo tipo                                 \n",
       "2022-11-25 P1      R     1.305188  -0.023853  0.470718  \n",
       "           P2      R     0.675111  -0.031926  0.132044  \n",
       "           P3      R     0.238869  -0.015551  0.005618  \n",
       "2022-12-25 P1      R     1.893907   0.247295  0.487609  \n",
       "           P2      R     1.227744   0.227406  0.141268  \n",
       "           P3      R     0.000000   0.000000  0.000000  "
      ]
     },
     "execution_count": 13,
     "metadata": {},
     "output_type": "execute_result"
    }
   ],
   "source": [
    "cc.groupby(['factura','periodo','tipo']).sum()"
   ]
  },
  {
   "cell_type": "code",
   "execution_count": 14,
   "metadata": {},
   "outputs": [
    {
     "name": "stderr",
     "output_type": "stream",
     "text": [
      "<ipython-input-14-f9d6a7d50a59>:1: FutureWarning: The default value of numeric_only in DataFrameGroupBy.sum is deprecated. In a future version, numeric_only will default to False. Either specify numeric_only or select only columns which should be valid for the function.\n",
      "  sns.barplot(data=cc.groupby(['factura','periodo']).sum().reset_index(),x='factura',y='consumo',hue='periodo')\n"
     ]
    },
    {
     "data": {
      "text/plain": [
       "<AxesSubplot:xlabel='factura', ylabel='consumo'>"
      ]
     },
     "execution_count": 14,
     "metadata": {},
     "output_type": "execute_result"
    },
    {
     "data": {
      "image/png": "[encoded data removed]",
      "text/plain": [
       "<Figure size 432x288 with 1 Axes>"
      ]
     },
     "metadata": {
      "needs_background": "light"
     },
     "output_type": "display_data"
    }
   ],
   "source": [
    "sns.barplot(data=cc.groupby(['factura','periodo']).sum().reset_index(),x='factura',y='consumo',hue='periodo')"
   ]
  }
 ],
 "metadata": {
  "kernelspec": {
   "display_name": "venv",
   "language": "python",
   "name": "python3"
  },
  "language_info": {
   "codemirror_mode": {
    "name": "ipython",
    "version": 3
   },
   "file_extension": ".py",
   "mimetype": "text/x-python",
   "name": "python",
   "nbconvert_exporter": "python",
   "pygments_lexer": "ipython3",
   "version": "3.8.5"
  },
  "orig_nbformat": 4,
  "vscode": {
   "interpreter": {
    "hash": "3466fc3d967eaa9c9415763fbb084e32a0aaaab0e120ac506d89df8c306519aa"
   }
  }
 },
 "nbformat": 4,
 "nbformat_minor": 2
}
